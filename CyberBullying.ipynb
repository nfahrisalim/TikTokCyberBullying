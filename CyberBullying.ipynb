{
 "cells": [
  {
   "cell_type": "markdown",
   "id": "a92b5e04",
   "metadata": {},
   "source": [
    "<div align=\"center\">\n",
    "  <h1><strong>Machine Learning - Kelompok 6B</strong></h1>\n",
    "  <table style=\"margin-top: 50px; margin-bottom: 30px; width: 80%; text-align: center;\">\n",
    "    <tr>\n",
    "      <th>Nama Anggota</th>\n",
    "      <th>NIM</th>\n",
    "    </tr>\n",
    "    <tr>\n",
    "      <td>Muh. Naufal Fahri Salim</td>\n",
    "      <td>H071231031</td>\n",
    "    </tr>\n",
    "    <tr>\n",
    "      <td>Muh. Aipun Pratama</td>\n",
    "      <td>H071231045</td>\n",
    "    </tr>\n",
    "  </table>\n",
    "</div>\n",
    "\n",
    "<br>\n",
    "\n",
    "---"
   ]
  }
 ],
 "metadata": {
  "language_info": {
   "name": "python"
  }
 },
 "nbformat": 4,
 "nbformat_minor": 5
}
