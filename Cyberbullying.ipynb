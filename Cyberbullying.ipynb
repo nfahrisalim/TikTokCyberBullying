{
  "cells": [
    {
      "cell_type": "markdown",
      "metadata": {
        "id": "iA01HkpFhDgh"
      },
      "source": [
        "<div align=\"center\">\n",
        "  <h1><strong>Machine Learning - Kelompok 6B</strong></h1>\n",
        "  <table style=\"margin-top: 50px; margin-bottom: 30px; width: 80%; text-align: center;\">\n",
        "    <tr>\n",
        "      <th>Nama Anggota</th>\n",
        "      <th>NIM</th>\n",
        "    </tr>\n",
        "    <tr>\n",
        "      <td>Muh. Naufal Fahri Salim</td>\n",
        "      <td>H071231031</td>\n",
        "    </tr>\n",
        "    <tr>\n",
        "      <td>Muh. Aipun Pratama</td>\n",
        "      <td>H071231045</td>\n",
        "    </tr>\n",
        "  </table>\n",
        "</div>\n",
        "\n",
        "<br>\n",
        "\n",
        "---\n",
        "\n",
        "# 🎯 **Deteksi Komentar Bullying di Media Sosial**\n",
        "\n",
        "\n",
        "Proyek ini bertujuan untuk menghasilkan sebuah model analisis sentimen yang dirancang untuk mendeteksi komentar di media sosial, khususnya untuk mengidentifikasi apakah sebuah komentar termasuk dalam kategori bullying atau non-bullying. Model machine learning yang diusulkan akan dikembangkan untuk mengidentifikasi dan mengklasifikasikan komentar di media sosial ke dalam dua kategori: **Bullying** dan **Non-Bullying**. Dengan menggunakan dataset yang telah diberi label dari komentar TikTok, model ini akan dilatih untuk mengenali pola, bahasa, dan konteks yang membedakan antara komentar yang merugikan dan yang tidak.\n",
        "\n",
        "## 📚 **Latar Belakang Masalah**\n",
        "\n",
        "Dengan pesatnya perkembangan platform media sosial seperti TikTok, komentar bullying menjadi masalah utama yang mempengaruhi kesehatan mental pengguna dan pengalaman mereka di platform. Mengidentifikasi komentar bullying secara manual tidak efektif karena volume komentar yang tinggi dan keragaman bahasa serta konteks. Media sosial memungkinkan pengguna untuk meninggalkan komentar yang bisa berisi pujian hingga kritik merugikan. Bahasa ambigu dan sarkasme sering digunakan dalam komentar bullying, sehingga diperlukan sistem otomatis yang dapat mendeteksi dan mengklasifikasikan komentar bullying secara akurat.\n",
        "\n",
        "## 🚀 **Tujuan Analisis**\n",
        "\n",
        "Tujuan dari analisis ini, yaitu pengembangan model machine learning untuk deteksi komentar bullying dari dataset komentar di TikTok, adalah sebagai berikut:\n",
        "\n",
        "1.  **Deteksi Otomatis**: Mengidentifikasi komentar bullying secara otomatis untuk mengurangi dampak negatif pada kesehatan mental pengguna dan menciptakan lingkungan online yang lebih aman. 🔍\n",
        "\n",
        "2.  **Deteksi yang Lebih Akurat**: Mengembangkan model yang dapat membedakan komentar bullying dari komentar non-bullying dengan akurat, menggunakan teknik machine learning dan analisis teks yang canggih. 🎯\n",
        "\n",
        "3.  **Peningkatan Kesadaran**: Meningkatkan kesadaran tentang dampak bullying dan pentingnya moderasi konten yang efektif, untuk mengurangi cyberbullying di media sosial. 🌟\n",
        "\n",
        "## 📊 **Gambaran Umum Dataset**\n",
        "\n",
        "Dataset yang digunakan dalam proyek ini diperoleh melalui proses scraping data komentar di TikTok, menggunakan script dari repository GitHub [cubernetes/TikTokCommentScraper](https://github.com/cubernetes/TikTokCommentScraper). File utama yang digunakan dalam analisis ini adalah `train.csv`, yang berisi data komentar TikTok beserta label klasifikasinya. Berikut adalah deskripsi dari kolom-kolom yang ada dalam dataset tersebut:\n",
        "\n",
        "  - **Text**: Kolom ini berisi teks dari komentar yang diambil dari video TikTok. Setiap entri adalah komentar unik dari pengguna TikTok.\n",
        "  - **Label**: Kolom ini berisi label untuk setiap komentar yang menunjukkan apakah komentar tersebut termasuk dalam kategori **Bullying** atau **Non-Bullying**. Label ini berisi nilai biner:\n",
        "      - **0**: Non-Bullying, menunjukkan bahwa komentar tersebut tidak mengandung bullying.\n",
        "      - **1**: Bullying, menunjukkan bahwa komentar tersebut mengandung bullying.\n",
        "\n",
        "<br>\n",
        "\n",
        "---"
      ]
    },
    {
      "cell_type": "markdown",
      "metadata": {
        "id": "E0r5xf-8XTAK"
      },
      "source": [
        "## 📊 **Import Libraries**\n",
        "Pada bagian ini, berbagai library diimpor untuk mendukung proses pemrosesan data, pengembangan, dan evaluasi model machine learning."
      ]
    },
    {
      "cell_type": "code",
      "execution_count": 1,
      "metadata": {
        "id": "rzoYLEichHqI"
      },
      "outputs": [],
      "source": [
        "import numpy as np\n",
        "import pandas as pd\n",
        "import matplotlib.pyplot as plt\n",
        "import seaborn as sns\n",
        "import re\n",
        "from indoNLP.preprocessing import *\n",
        "from Sastrawi.StopWordRemover.StopWordRemoverFactory import StopWordRemoverFactory, StopWordRemover, ArrayDictionary\n",
        "from Sastrawi.Stemmer.StemmerFactory import StemmerFactory\n",
        "from sklearn.feature_extraction.text import TfidfVectorizer\n",
        "from sklearn import model_selection\n",
        "from sklearn.svm import SVC\n",
        "from sklearn.linear_model import LogisticRegression\n",
        "from sklearn.naive_bayes import MultinomialNB\n",
        "from sklearn.metrics import accuracy_score, confusion_matrix, roc_auc_score, classification_report\n",
        "from sklearn.utils import resample\n",
        "from sklearn.feature_extraction.text import CountVectorizer\n",
        "from sklearn.model_selection import GridSearchCV\n",
        "from sklearn.pipeline import Pipeline\n",
        "import tensorflow as tf\n",
        "from tensorflow.keras.preprocessing.text import Tokenizer\n",
        "from tensorflow.keras.preprocessing.sequence import pad_sequences\n",
        "from tensorflow.keras.models import Sequential, load_model\n",
        "from tensorflow.keras.layers import Embedding, LSTM, Dense, Dropout\n",
        "import joblib"
      ]
    },
    {
      "cell_type": "markdown",
      "metadata": {
        "id": "7WaY6i-9XWCk"
      },
      "source": [
        "## 📂 **Load Data**\n",
        "\n",
        "Pada bagian ini merupakan proses memuat dataset yang telah dikumpulkan untuk analisis. Dataset ini berisi komentar yang di-scrape dari TikTok dan disimpan dalam file CSV yang disimpan di github. Berikut adalah langkah-langkah untuk memuat dan menampilkan data:"
      ]
    },
    {
      "cell_type": "markdown",
      "metadata": {
        "id": "pJuHL_GiXWXg"
      },
      "source": []
    },
    {
      "cell_type": "code",
      "execution_count": 3,
      "metadata": {
        "colab": {
          "base_uri": "https://localhost:8080/",
          "height": 423
        },
        "id": "KQKjfnFTypFU",
        "outputId": "6c2d3e81-036c-4b3b-f25f-b5bf423033ce"
      },
      "outputs": [
        {
          "name": "stdout",
          "output_type": "stream",
          "text": [
            "CSV telah dibersihkan dan disimpan sebagai 'cleaned_tiktokscraped.csv'\n"
          ]
        }
      ],
      "source": [
        "import requests\n",
        "\n",
        "# Unduh CSV mentah\n",
        "url = 'https://github.com/nfahrisalim/TikTokCyberBullying/raw/main/tiktokscraped.csv'\n",
        "response = requests.get(url)\n",
        "lines = response.text.strip().split('\\n')\n",
        "\n",
        "cleaned_data = []\n",
        "\n",
        "for line in lines:\n",
        "    # Hilangkan newline, lalu pecah dari belakang untuk mencari label 0/1\n",
        "    if line.endswith(',0') or line.endswith(',1'):\n",
        "        label = line[-1]\n",
        "        text = line[:-2]\n",
        "        # Hapus koma yang tidak perlu dari text (tapi bukan yang sebelum label)\n",
        "        text = text.replace(',', '')  # atau gunakan regex jika lebih presisi diperlukan\n",
        "        cleaned_data.append([text.strip(), label])\n",
        "    else:\n",
        "        # Baris rusak: bisa di-skip atau ditangani khusus\n",
        "        continue\n",
        "\n",
        "# Simpan hasilnya ke CSV baru\n",
        "import pandas as pd\n",
        "\n",
        "df_cleaned = pd.DataFrame(cleaned_data, columns=['text', 'label'])\n",
        "df_cleaned.to_csv('cleaned_tiktokscraped.csv', index=False)\n",
        "\n",
        "print(\"CSV telah dibersihkan dan disimpan sebagai 'cleaned_tiktokscraped.csv'\")\n"
      ]
    },
    {
      "cell_type": "markdown",
      "metadata": {
        "id": "bkC4VmzqXdfv"
      },
      "source": [
        "# 🔍 **Exploratory Data Analysis**"
      ]
    },
    {
      "cell_type": "markdown",
      "metadata": {
        "id": "wyRmc__iXgIP"
      },
      "source": [
        "- **Distribusi Label**"
      ]
    },
    {
      "cell_type": "code",
      "execution_count": 3,
      "metadata": {
        "colab": {
          "base_uri": "https://localhost:8080/",
          "height": 512
        },
        "id": "J1CDSmzJPvNY",
        "outputId": "4544b86e-8ebd-4565-ecf3-4235db465997"
      },
      "outputs": [
        {
          "data": {
            "image/png": "[encoded data removed]",
            "text/plain": [
              "<Figure size 800x600 with 1 Axes>"
            ]
          },
          "metadata": {},
          "output_type": "display_data"
        }
      ],
      "source": [
        "sentiment_counts = df['label'].value_counts().reset_index()\n",
        "sentiment_counts.columns = ['label', 'Count']\n",
        "\n",
        "plt.figure(figsize=(8, 6))\n",
        "sns.barplot(x='label', y='Count', data=sentiment_counts, hue='label', dodge=False, palette=['green', 'red'])\n",
        "plt.title('Distribusi sentimen', fontsize=16)\n",
        "plt.xlabel('Sentiment', fontsize=14)\n",
        "plt.ylabel('Count', fontsize=14)\n",
        "plt.xticks(ticks=[0, 1], labels=['Non-Bullying', 'Bullying'], fontsize=12)\n",
        "plt.show()"
      ]
    },
    {
      "cell_type": "markdown",
      "metadata": {
        "id": "qe9WKr8oXoTP"
      },
      "source": [
        "Berdasarkan grafik distribusi sentimen, dataset ini menunjukkan **ketidakseimbangan data** dengan jumlah label **Non-Bullying yang lebih banyak** dibandingkan Bullying. Untuk mengatasi potensi bias model akibat ketidakseimbangan ini, diperlukan teknik *sampling*. Mengingat total data kami yang berjumlah sekitar **20.948 baris**, kami memilih metode **undersampling** untuk mengurangi sampel kelas mayoritas (Non-Bullying) agar lebih seimbang dengan kelas minoritas."
      ]
    },
    {
      "cell_type": "code",
      "execution_count": 4,
      "metadata": {
        "id": "ObwoDBuyQ_wf"
      },
      "outputs": [],
      "source": [
        "non_bullying = df[df['label'] == 0]\n",
        "bullying = df[df['label'] == 1]\n",
        "\n",
        "non_bullying_downsampled = resample(non_bullying,\n",
        "                                    replace=False,\n",
        "                                    n_samples=len(bullying),\n",
        "                                    random_state=42)\n",
        "\n",
        "df_x = pd.concat([non_bullying_downsampled, bullying])\n"
      ]
    },
    {
      "cell_type": "code",
      "execution_count": 5,
      "metadata": {
        "colab": {
          "base_uri": "https://localhost:8080/",
          "height": 590
        },
        "id": "JZaQJKtAROCB",
        "outputId": "fab61dc8-0a4f-40b6-c3b3-e63500add89d"
      },
      "outputs": [
        {
          "name": "stderr",
          "output_type": "stream",
          "text": [
            "C:\\Users\\ASUS\\AppData\\Local\\Temp\\ipykernel_36088\\3148306152.py:1: FutureWarning: \n",
            "\n",
            "Passing `palette` without assigning `hue` is deprecated and will be removed in v0.14.0. Assign the `x` variable to `hue` and set `legend=False` for the same effect.\n",
            "\n",
            "  sns.countplot(x='label', data=df_x, palette=['green', 'red'])\n"
          ]
        },
        {
          "data": {
            "image/png": "[encoded data removed]",
            "text/plain": [
              "<Figure size 640x480 with 1 Axes>"
            ]
          },
          "metadata": {},
          "output_type": "display_data"
        }
      ],
      "source": [
        "sns.countplot(x='label', data=df_x, palette=['green', 'red'])\n",
        "plt.title('Distribusi Sentimen Setelah Penyeimbangan', fontsize=16)\n",
        "plt.xticks(ticks=[0, 1], labels=['Non-Bullying', 'Bullying'], fontsize=12)\n",
        "plt.xlabel('Sentiment', fontsize=14)\n",
        "plt.ylabel('Count', fontsize=14)\n",
        "plt.show()\n"
      ]
    },
    {
      "cell_type": "markdown",
      "metadata": {
        "id": "yN13YD-0Yt9w"
      },
      "source": [
        "- **Distribusi Jumlah kata**"
      ]
    },
    {
      "cell_type": "code",
      "execution_count": 6,
      "metadata": {
        "colab": {
          "base_uri": "https://localhost:8080/",
          "height": 265
        },
        "id": "Pw2BbceiRhKa",
        "outputId": "391ab74d-2ef4-4a85-a302-536d4fa5bb95"
      },
      "outputs": [
        {
          "data": {
            "image/png": "[encoded data removed]",
            "text/plain": [
              "<Figure size 1258.88x500 with 2 Axes>"
            ]
          },
          "metadata": {},
          "output_type": "display_data"
        }
      ],
      "source": [
        "df_x['word_count'] = df_x['text'].apply(lambda x: len(x.split()))\n",
        "\n",
        "g = sns.FacetGrid(df_x, col='label', hue='label', palette='cubehelix', height=5, aspect=1.2)\n",
        "g.map(sns.histplot, 'word_count', kde=True, bins=30)\n",
        "\n",
        "g.set_axis_labels(\"word count\", \"Density\")\n",
        "g.set_titles(\"Distribution dari Label {col_name}\")\n",
        "g.fig.suptitle(\"Distribusi Jumlah Kata berdasarkan label\", fontsize=16)\n",
        "g.add_legend()\n",
        "plt.tight_layout()\n",
        "plt.show()"
      ]
    },
    {
      "cell_type": "markdown",
      "metadata": {
        "id": "pjtxtPH_ZhAJ"
      },
      "source": [
        "Analisis visual distribusi panjang teks mengungkapkan adanya ketidakseimbangan, di mana label 0 (positif) cenderung memiliki lebih banyak teks dengan jumlah kata yang besar dibandingkan label 1 (bullying). Untuk mengatasi potensi bias dari perbedaan ini, kami menerapkan strategi sampling dengan mengambil sampel data bullying dan non-bullying yang memiliki distribusi panjang kata lebih sebanding. Proses ini dilanjutkan dengan melakukan *sampling lebih lanjut dari setiap 'bin'* (kelompok rentang panjang kata) untuk memastikan bahwa distribusi panjang teks antara kedua label menjadi sepenuhnya setara, sehingga analisis atau pemodelan selanjutnya tidak dipengaruhi oleh variasi panjang teks awal."
      ]
    },
    {
      "cell_type": "code",
      "execution_count": 7,
      "metadata": {
        "colab": {
          "base_uri": "https://localhost:8080/",
          "height": 312
        },
        "id": "g_vAjOQsTF9W",
        "outputId": "dc52079d-1b4b-4474-d9ed-4c8f8b712a92"
      },
      "outputs": [
        {
          "data": {
            "image/png": "[encoded data removed]",
            "text/plain": [
              "<Figure size 1200x500 with 1 Axes>"
            ]
          },
          "metadata": {},
          "output_type": "display_data"
        }
      ],
      "source": [
        "plt.figure(figsize=(12, 5))\n",
        "sns.histplot(data=df_x, x='word_count', hue='label', bins=30, palette=['green', 'red'], kde=True)\n",
        "plt.title('Distribusi Panjang Kata Setelah Balancing', fontsize=16)\n",
        "plt.xlabel('Word Count')\n",
        "plt.ylabel('Jumlah Komentar')\n",
        "plt.legend(title='Label', labels=['Non-Bullying', 'Bullying'])\n",
        "plt.show()\n"
      ]
    },
    {
      "cell_type": "markdown",
      "metadata": {
        "id": "tS5liq-OZttU"
      },
      "source": [
        "- **Outlier Handling (Box Plot IQR Method)**"
      ]
    },
    {
      "cell_type": "code",
      "execution_count": 8,
      "metadata": {
        "colab": {
          "base_uri": "https://localhost:8080/",
          "height": 508
        },
        "id": "Jm7o7P3HTUa0",
        "outputId": "fb4e3703-d111-471b-b2c4-57358345384b"
      },
      "outputs": [
        {
          "data": {
            "image/png": "[encoded data removed]",
            "text/plain": [
              "<Figure size 800x600 with 1 Axes>"
            ]
          },
          "metadata": {},
          "output_type": "display_data"
        }
      ],
      "source": [
        "plt.figure(figsize=(8, 6))\n",
        "sns.boxplot(x='label', y='word_count', data=df_x, palette='cubehelix', hue='label')\n",
        "plt.title('Word Count Distribution by Label (Before Outlier Removal)', fontsize=16)\n",
        "plt.xlabel('Label')\n",
        "plt.ylabel('Word Count')\n",
        "plt.show()"
      ]
    },
    {
      "cell_type": "markdown",
      "metadata": {
        "id": "Ioe819mjZyUL"
      },
      "source": [
        "*Boxplot* menunjukkan bahwa panjang teks untuk kedua label memiliki distribusi yang serupa, dengan rentang interkuartil (IQR) yang hampir sama.\n",
        "Meskipun terdapat beberapa *outlier* (teks dengan panjang yang sangat tinggi), hal ini wajar terjadi pada data teks. *Outlier* ini bisa merepresentasikan teks yang sangat informatif atau mungkin teks yang mengandung kata-kata berulang atau tidak relevan."
      ]
    },
    {
      "cell_type": "code",
      "execution_count": 9,
      "metadata": {
        "colab": {
          "base_uri": "https://localhost:8080/",
          "height": 597
        },
        "id": "i-x-EsMDTq37",
        "outputId": "ed91f3e8-4966-4a05-9615-9aacb5b2768b"
      },
      "outputs": [
        {
          "data": {
            "text/html": [
              "<div>\n",
              "<style scoped>\n",
              "    .dataframe tbody tr th:only-of-type {\n",
              "        vertical-align: middle;\n",
              "    }\n",
              "\n",
              "    .dataframe tbody tr th {\n",
              "        vertical-align: top;\n",
              "    }\n",
              "\n",
              "    .dataframe thead th {\n",
              "        text-align: right;\n",
              "    }\n",
              "</style>\n",
              "<table border=\"1\" class=\"dataframe\">\n",
              "  <thead>\n",
              "    <tr style=\"text-align: right;\">\n",
              "      <th></th>\n",
              "      <th>text</th>\n",
              "      <th>label</th>\n",
              "      <th>word_count</th>\n",
              "    </tr>\n",
              "  </thead>\n",
              "  <tbody>\n",
              "    <tr>\n",
              "      <th>2095</th>\n",
              "      <td>kita hargai orang udah minta maf kok air mata ...</td>\n",
              "      <td>0</td>\n",
              "      <td>12</td>\n",
              "    </tr>\n",
              "    <tr>\n",
              "      <th>3693</th>\n",
              "      <td>teh tariq akhirnya udh punya pasangan</td>\n",
              "      <td>0</td>\n",
              "      <td>6</td>\n",
              "    </tr>\n",
              "    <tr>\n",
              "      <th>1803</th>\n",
              "      <td>kalau ada yang belum paham tanya kak gem biar ...</td>\n",
              "      <td>0</td>\n",
              "      <td>11</td>\n",
              "    </tr>\n",
              "    <tr>\n",
              "      <th>4296</th>\n",
              "      <td>senyuma lu mirip logo Arsenal</td>\n",
              "      <td>0</td>\n",
              "      <td>5</td>\n",
              "    </tr>\n",
              "    <tr>\n",
              "      <th>2572</th>\n",
              "      <td>mending kaya aldi taher di upload ke youtube n...</td>\n",
              "      <td>0</td>\n",
              "      <td>24</td>\n",
              "    </tr>\n",
              "    <tr>\n",
              "      <th>...</th>\n",
              "      <td>...</td>\n",
              "      <td>...</td>\n",
              "      <td>...</td>\n",
              "    </tr>\n",
              "    <tr>\n",
              "      <th>10161</th>\n",
              "      <td>ini emang bisa jadi bukti sih kalau sdm di Ind...</td>\n",
              "      <td>1</td>\n",
              "      <td>22</td>\n",
              "    </tr>\n",
              "    <tr>\n",
              "      <th>10162</th>\n",
              "      <td>cowo yang ngejambak cewek kalo berantem piks b...</td>\n",
              "      <td>1</td>\n",
              "      <td>8</td>\n",
              "    </tr>\n",
              "    <tr>\n",
              "      <th>10163</th>\n",
              "      <td>owh aku gay?? 🥺🦶🏻</td>\n",
              "      <td>1</td>\n",
              "      <td>4</td>\n",
              "    </tr>\n",
              "    <tr>\n",
              "      <th>10164</th>\n",
              "      <td>Pak Luhut Panjaitan: Aku Raja, Kau...\"</td>\n",
              "      <td>1</td>\n",
              "      <td>6</td>\n",
              "    </tr>\n",
              "    <tr>\n",
              "      <th>10165</th>\n",
              "      <td>1 lagi bg, org org yg masih buat iklan pop up🗿</td>\n",
              "      <td>1</td>\n",
              "      <td>11</td>\n",
              "    </tr>\n",
              "  </tbody>\n",
              "</table>\n",
              "<p>8090 rows × 3 columns</p>\n",
              "</div>"
            ],
            "text/plain": [
              "                                                    text  label  word_count\n",
              "2095   kita hargai orang udah minta maf kok air mata ...      0          12\n",
              "3693               teh tariq akhirnya udh punya pasangan      0           6\n",
              "1803   kalau ada yang belum paham tanya kak gem biar ...      0          11\n",
              "4296                       senyuma lu mirip logo Arsenal      0           5\n",
              "2572   mending kaya aldi taher di upload ke youtube n...      0          24\n",
              "...                                                  ...    ...         ...\n",
              "10161  ini emang bisa jadi bukti sih kalau sdm di Ind...      1          22\n",
              "10162  cowo yang ngejambak cewek kalo berantem piks b...      1           8\n",
              "10163                                  owh aku gay?? 🥺🦶🏻      1           4\n",
              "10164             Pak Luhut Panjaitan: Aku Raja, Kau...\"      1           6\n",
              "10165     1 lagi bg, org org yg masih buat iklan pop up🗿      1          11\n",
              "\n",
              "[8090 rows x 3 columns]"
            ]
          },
          "execution_count": 9,
          "metadata": {},
          "output_type": "execute_result"
        }
      ],
      "source": [
        "df_x"
      ]
    },
    {
      "cell_type": "markdown",
      "metadata": {
        "id": "SzaAQCtIZ1iz"
      },
      "source": [
        "Setelah melalui tahap EDA dan proses *sampling*, dimensi dataset kami berubah menjadi **13.676 baris × 4 kolom** dari ukuran awalnya **20.910 baris × 2 kolom**."
      ]
    },
    {
      "cell_type": "markdown",
      "metadata": {
        "id": "wcFB123KaRTw"
      },
      "source": [
        "---"
      ]
    },
    {
      "cell_type": "markdown",
      "metadata": {
        "id": "_gIdh17AaUvt"
      },
      "source": [
        "# 🧹 **Data Preprocessing**\n",
        "Pada bagian ini merupakan preprocessing pada data untuk memastikan kualitas data yang optimal sebelum pelatihan model."
      ]
    },
    {
      "cell_type": "markdown",
      "metadata": {
        "id": "3DOvp0CKaXtu"
      },
      "source": [
        "- **Handling duplicates**\n",
        "\n",
        "Menghapus duplikasi dalam data adalah langkah krusial untuk memastikan bahwa model yang dilatih tidak bias dan akurat. Berikut adalah langkah-langkah untuk menangani duplikasi dalam dataset:"
      ]
    },
    {
      "cell_type": "code",
      "execution_count": 10,
      "metadata": {
        "colab": {
          "base_uri": "https://localhost:8080/"
        },
        "id": "1kcZwnS1aZX-",
        "outputId": "c3e815a5-5984-415d-c132-ece24d31fc65"
      },
      "outputs": [
        {
          "data": {
            "text/plain": [
              "np.int64(115)"
            ]
          },
          "execution_count": 10,
          "metadata": {},
          "output_type": "execute_result"
        }
      ],
      "source": [
        "df_x.duplicated(subset=['text']).sum()"
      ]
    },
    {
      "cell_type": "code",
      "execution_count": 11,
      "metadata": {
        "id": "Fl5HNrwAakYj"
      },
      "outputs": [],
      "source": [
        "df_x.drop_duplicates(inplace=True, subset=['text'])"
      ]
    },
    {
      "cell_type": "markdown",
      "metadata": {
        "id": "wcgFnbz_asla"
      },
      "source": [
        "- **Handling Emojis**\n",
        "\n",
        "Pada bagian ini, untuk menangani emoji dalam teks komentar. Emoji sering kali membawa makna tambahan yang perlu diubah menjadi format yang dapat diproses oleh model. Untuk itu, kita akan mengonversi emoji menjadi kata-kata yang setara."
      ]
    },
    {
      "cell_type": "code",
      "execution_count": 12,
      "metadata": {
        "id": "quUnfRAeatp-"
      },
      "outputs": [],
      "source": [
        "#convert emoji to word\n",
        "\n",
        "def convert_emoji(text) :\n",
        "    return emoji_to_words(text, lang='id', use_alias=False, delimiter=(' ', ' '))\n",
        "\n",
        "df_x['text'] = df_x['text'].apply(convert_emoji)\n"
      ]
    },
    {
      "cell_type": "code",
      "execution_count": 13,
      "metadata": {
        "colab": {
          "base_uri": "https://localhost:8080/",
          "height": 597
        },
        "id": "E_gqngGoa2Ga",
        "outputId": "9ed566ca-10e3-4aa6-aefd-5008d9aa8968"
      },
      "outputs": [
        {
          "data": {
            "text/html": [
              "<div>\n",
              "<style scoped>\n",
              "    .dataframe tbody tr th:only-of-type {\n",
              "        vertical-align: middle;\n",
              "    }\n",
              "\n",
              "    .dataframe tbody tr th {\n",
              "        vertical-align: top;\n",
              "    }\n",
              "\n",
              "    .dataframe thead th {\n",
              "        text-align: right;\n",
              "    }\n",
              "</style>\n",
              "<table border=\"1\" class=\"dataframe\">\n",
              "  <thead>\n",
              "    <tr style=\"text-align: right;\">\n",
              "      <th></th>\n",
              "      <th>text</th>\n",
              "      <th>label</th>\n",
              "      <th>word_count</th>\n",
              "    </tr>\n",
              "  </thead>\n",
              "  <tbody>\n",
              "    <tr>\n",
              "      <th>2095</th>\n",
              "      <td>kita hargai orang udah minta maf kok air mata ...</td>\n",
              "      <td>0</td>\n",
              "      <td>12</td>\n",
              "    </tr>\n",
              "    <tr>\n",
              "      <th>3693</th>\n",
              "      <td>teh tariq akhirnya udh punya pasangan</td>\n",
              "      <td>0</td>\n",
              "      <td>6</td>\n",
              "    </tr>\n",
              "    <tr>\n",
              "      <th>1803</th>\n",
              "      <td>kalau ada yang belum paham tanya kak gem biar ...</td>\n",
              "      <td>0</td>\n",
              "      <td>11</td>\n",
              "    </tr>\n",
              "    <tr>\n",
              "      <th>4296</th>\n",
              "      <td>senyuma lu mirip logo Arsenal</td>\n",
              "      <td>0</td>\n",
              "      <td>5</td>\n",
              "    </tr>\n",
              "    <tr>\n",
              "      <th>2572</th>\n",
              "      <td>mending kaya aldi taher di upload ke youtube n...</td>\n",
              "      <td>0</td>\n",
              "      <td>24</td>\n",
              "    </tr>\n",
              "    <tr>\n",
              "      <th>...</th>\n",
              "      <td>...</td>\n",
              "      <td>...</td>\n",
              "      <td>...</td>\n",
              "    </tr>\n",
              "    <tr>\n",
              "      <th>10161</th>\n",
              "      <td>ini emang bisa jadi bukti sih kalau sdm di Ind...</td>\n",
              "      <td>1</td>\n",
              "      <td>22</td>\n",
              "    </tr>\n",
              "    <tr>\n",
              "      <th>10162</th>\n",
              "      <td>cowo yang ngejambak cewek kalo berantem piks b...</td>\n",
              "      <td>1</td>\n",
              "      <td>8</td>\n",
              "    </tr>\n",
              "    <tr>\n",
              "      <th>10163</th>\n",
              "      <td>owh aku gay??  wajah_memelas  telapak_kaki_war...</td>\n",
              "      <td>1</td>\n",
              "      <td>4</td>\n",
              "    </tr>\n",
              "    <tr>\n",
              "      <th>10164</th>\n",
              "      <td>Pak Luhut Panjaitan: Aku Raja, Kau...\"</td>\n",
              "      <td>1</td>\n",
              "      <td>6</td>\n",
              "    </tr>\n",
              "    <tr>\n",
              "      <th>10165</th>\n",
              "      <td>1 lagi bg, org org yg masih buat iklan pop up ...</td>\n",
              "      <td>1</td>\n",
              "      <td>11</td>\n",
              "    </tr>\n",
              "  </tbody>\n",
              "</table>\n",
              "<p>7975 rows × 3 columns</p>\n",
              "</div>"
            ],
            "text/plain": [
              "                                                    text  label  word_count\n",
              "2095   kita hargai orang udah minta maf kok air mata ...      0          12\n",
              "3693               teh tariq akhirnya udh punya pasangan      0           6\n",
              "1803   kalau ada yang belum paham tanya kak gem biar ...      0          11\n",
              "4296                       senyuma lu mirip logo Arsenal      0           5\n",
              "2572   mending kaya aldi taher di upload ke youtube n...      0          24\n",
              "...                                                  ...    ...         ...\n",
              "10161  ini emang bisa jadi bukti sih kalau sdm di Ind...      1          22\n",
              "10162  cowo yang ngejambak cewek kalo berantem piks b...      1           8\n",
              "10163  owh aku gay??  wajah_memelas  telapak_kaki_war...      1           4\n",
              "10164             Pak Luhut Panjaitan: Aku Raja, Kau...\"      1           6\n",
              "10165  1 lagi bg, org org yg masih buat iklan pop up ...      1          11\n",
              "\n",
              "[7975 rows x 3 columns]"
            ]
          },
          "execution_count": 13,
          "metadata": {},
          "output_type": "execute_result"
        }
      ],
      "source": [
        "df_x"
      ]
    },
    {
      "cell_type": "markdown",
      "metadata": {
        "id": "Fpv4u72-bDTt"
      },
      "source": [
        "- **Cleaning Text by Removing Unecessary Elements**\n",
        "\n",
        "Pada bagian ini, akan dibersihkan teks komentar dari elemen-elemen yang tidak perlu untuk meningkatkan kualitas data sebelum analisis lebih lanjut. Proses ini meliputi penghapusan simbol, emoji, URL, dan elemen lain yang dapat mengganggu analisis."
      ]
    },
    {
      "cell_type": "code",
      "execution_count": 14,
      "metadata": {
        "id": "Mlu6egyUbEQy"
      },
      "outputs": [],
      "source": [
        "#Bersihin data ( remove simbol, emoji etc)\n",
        "def clean_text(text):\n",
        "    text = re.sub(r'http\\S+', '', text) #remove url\n",
        "    text = re.sub(r'@\\S+', '', text) #remove mention\n",
        "    text = re.sub(r'#\\S+', '', text) #remove hashtag\n",
        "    text = re.sub(r'[^A-Za-z0-9]+', ' ', text) #keep only alphanumeric\n",
        "    text = re.sub(r'\\s+', ' ', text).strip() #remove extra spaces\n",
        "    text = re.sub(r'(.)\\1+', r'\\1', text) #remove duplicate characters\n",
        "\n",
        "    return text"
      ]
    },
    {
      "cell_type": "code",
      "execution_count": 15,
      "metadata": {
        "id": "igQQcuztbJx7"
      },
      "outputs": [],
      "source": [
        "df_x['text'] = df_x['text'].apply(clean_text)\n",
        "df_x['text'] = df_x['text'].str.lower()"
      ]
    },
    {
      "cell_type": "markdown",
      "metadata": {
        "id": "ozIa42W1bT9H"
      },
      "source": [
        "- **Replacing Slang Words in The Text Data**\n",
        "\n",
        "Langkah ini menggantikan kata-kata slang dalam teks komentar dengan bentuk yang lebih formal atau standar. Penggunaan bahasa slang dapat mempengaruhi pemahaman model, sehingga mengganti dengan istilah yang lebih umum membantu meningkatkan akurasi analisis."
      ]
    },
    {
      "cell_type": "code",
      "execution_count": 16,
      "metadata": {
        "id": "93wYzw3VbVV0"
      },
      "outputs": [],
      "source": [
        "df_x['text_cleaned'] = df_x['text'].apply(lambda x: replace_slang(x))"
      ]
    },
    {
      "cell_type": "markdown",
      "metadata": {
        "id": "uXmPewbhbeU9"
      },
      "source": [
        "- **Remove Stop Words**\n",
        "\n",
        "Tahap ini menghapus kata-kata yang tidak memiliki makna signifikan dalam analisis teks, seperti kata penghubung dan kata umum lainnya. Menghilangkan kata-kata tersebut membantu fokus pada kata-kata kunci yang lebih relevan dan meningkatkan kualitas pemodelan."
      ]
    },
    {
      "cell_type": "code",
      "execution_count": 17,
      "metadata": {
        "id": "S0_AgJYebfIB"
      },
      "outputs": [],
      "source": [
        "stop_words = StopWordRemoverFactory().get_stop_words()\n",
        "\n",
        "new_array = ArrayDictionary(stop_words)\n",
        "stop_words_remover_new = StopWordRemover(new_array)\n",
        "\n",
        "def stopword(str_text):\n",
        "  str_text = stop_words_remover_new.remove(str_text)\n",
        "  return str_text\n",
        "\n",
        "df_x['text_cleaned'] = df_x['text_cleaned'].apply(lambda x: stopword(x))\n"
      ]
    },
    {
      "cell_type": "markdown",
      "metadata": {
        "id": "9WGYF0n2bk11"
      },
      "source": [
        "- **Tokenization and Stemming**\n",
        "\n",
        "1. Tokenisasi Teks\n",
        "\n",
        "Tokenisasi membagi teks menjadi unit-unit yang lebih kecil, yaitu kata-kata individual. Ini membantu dalam analisis teks dengan memungkinkan pemrosesan setiap kata secara terpisah."
      ]
    },
    {
      "cell_type": "code",
      "execution_count": 18,
      "metadata": {
        "id": "PArSLe1wbl1a"
      },
      "outputs": [],
      "source": [
        "#tokenize text_cleaned\n",
        "def tokenize_text(text):\n",
        "    return text.split()\n",
        "\n",
        "df_x['text_cleaned'] = df_x['text_cleaned'].apply(tokenize_text)"
      ]
    },
    {
      "cell_type": "markdown",
      "metadata": {
        "id": "9WsBW0sUbrr0"
      },
      "source": [
        "2. Stemming Data\n",
        "\n",
        "Stemming adalah proses mengubah kata-kata menjadi bentuk dasarnya untuk menyederhanakan analisis teks. Dengan melakukan stemming, variasi kata yang memiliki makna yang sama akan dikurangi menjadi bentuk dasar yang konsisten. Langkah ini penting untuk mengurangi kompleksitas data dan meningkatkan akurasi model."
      ]
    },
    {
      "cell_type": "code",
      "execution_count": 19,
      "metadata": {
        "id": "gDF8Z065btim"
      },
      "outputs": [],
      "source": [
        "#stemming data\n",
        "\n",
        "def stemming(text_cleaning):\n",
        "  factory = StemmerFactory()\n",
        "  stemmer = factory.create_stemmer()\n",
        "  do = []\n",
        "  for w in text_cleaning:\n",
        "    dt = stemmer.stem(w)\n",
        "    do.append(dt)\n",
        "  d_clean = []\n",
        "  d_clean = \" \".join(do)\n",
        "  return d_clean\n",
        "\n",
        "df_x['text_cleaned'] = df_x['text_cleaned'].apply(lambda x: stemming(x))"
      ]
    },
    {
      "cell_type": "code",
      "execution_count": 20,
      "metadata": {
        "colab": {
          "base_uri": "https://localhost:8080/",
          "height": 571
        },
        "id": "FK7twgCep-31",
        "outputId": "a32fb380-b7dc-4c3c-9912-1fa910b76642"
      },
      "outputs": [
        {
          "data": {
            "text/html": [
              "<div>\n",
              "<style scoped>\n",
              "    .dataframe tbody tr th:only-of-type {\n",
              "        vertical-align: middle;\n",
              "    }\n",
              "\n",
              "    .dataframe tbody tr th {\n",
              "        vertical-align: top;\n",
              "    }\n",
              "\n",
              "    .dataframe thead th {\n",
              "        text-align: right;\n",
              "    }\n",
              "</style>\n",
              "<table border=\"1\" class=\"dataframe\">\n",
              "  <thead>\n",
              "    <tr style=\"text-align: right;\">\n",
              "      <th></th>\n",
              "      <th>text</th>\n",
              "      <th>label</th>\n",
              "      <th>word_count</th>\n",
              "      <th>text_cleaned</th>\n",
              "    </tr>\n",
              "  </thead>\n",
              "  <tbody>\n",
              "    <tr>\n",
              "      <th>6235</th>\n",
              "      <td>aku mencari air matanya wajah menangis keras w...</td>\n",
              "      <td>1</td>\n",
              "      <td>13</td>\n",
              "      <td>aku cari air mata wajah menang keras wajah men...</td>\n",
              "    </tr>\n",
              "    <tr>\n",
              "      <th>7372</th>\n",
              "      <td>gimana2 jgn komen jahat lah emg yg dia omongin...</td>\n",
              "      <td>1</td>\n",
              "      <td>15</td>\n",
              "      <td>gimana2 jangan komen jahat lah memang dia omon...</td>\n",
              "    </tr>\n",
              "    <tr>\n",
              "      <th>8897</th>\n",
              "      <td>nutupin kebod han dengan ngomong ingris wajah ...</td>\n",
              "      <td>1</td>\n",
              "      <td>11</td>\n",
              "      <td>tutup kebod han omong ingris wajah gembira ura...</td>\n",
              "    </tr>\n",
              "    <tr>\n",
              "      <th>9196</th>\n",
              "      <td>puas gw liat panji tak bersuara tertawa terbah...</td>\n",
              "      <td>1</td>\n",
              "      <td>9</td>\n",
              "      <td>puas gue lihat panji tak suara tertawa bahak b...</td>\n",
              "    </tr>\n",
              "    <tr>\n",
              "      <th>30</th>\n",
              "      <td>a kakel aku juga ada yg di kaist tapi s2</td>\n",
              "      <td>0</td>\n",
              "      <td>10</td>\n",
              "      <td>a kakel aku ada di kaist s2</td>\n",
              "    </tr>\n",
              "    <tr>\n",
              "      <th>243</th>\n",
              "      <td>anj</td>\n",
              "      <td>0</td>\n",
              "      <td>1</td>\n",
              "      <td>anjing</td>\n",
              "    </tr>\n",
              "    <tr>\n",
              "      <th>4660</th>\n",
              "      <td>seperti datok siti nurhaliza beb</td>\n",
              "      <td>0</td>\n",
              "      <td>5</td>\n",
              "      <td>datok siti nurhaliza beb</td>\n",
              "    </tr>\n",
              "    <tr>\n",
              "      <th>8757</th>\n",
              "      <td>negara gaji dia hanya utk main2</td>\n",
              "      <td>1</td>\n",
              "      <td>6</td>\n",
              "      <td>negara gaji hanya main</td>\n",
              "    </tr>\n",
              "    <tr>\n",
              "      <th>5626</th>\n",
              "      <td>le makan samyang yuk aku udh lama ga makan sam...</td>\n",
              "      <td>0</td>\n",
              "      <td>15</td>\n",
              "      <td>makan samyang yuk aku lama enggak makan samyan...</td>\n",
              "    </tr>\n",
              "    <tr>\n",
              "      <th>5091</th>\n",
              "      <td>gua aneh karna gua gila</td>\n",
              "      <td>0</td>\n",
              "      <td>6</td>\n",
              "      <td>gua aneh gua gila</td>\n",
              "    </tr>\n",
              "  </tbody>\n",
              "</table>\n",
              "</div>"
            ],
            "text/plain": [
              "                                                   text  label  word_count  \\\n",
              "6235  aku mencari air matanya wajah menangis keras w...      1          13   \n",
              "7372  gimana2 jgn komen jahat lah emg yg dia omongin...      1          15   \n",
              "8897  nutupin kebod han dengan ngomong ingris wajah ...      1          11   \n",
              "9196  puas gw liat panji tak bersuara tertawa terbah...      1           9   \n",
              "30             a kakel aku juga ada yg di kaist tapi s2      0          10   \n",
              "243                                                 anj      0           1   \n",
              "4660                   seperti datok siti nurhaliza beb      0           5   \n",
              "8757                    negara gaji dia hanya utk main2      1           6   \n",
              "5626  le makan samyang yuk aku udh lama ga makan sam...      0          15   \n",
              "5091                            gua aneh karna gua gila      0           6   \n",
              "\n",
              "                                           text_cleaned  \n",
              "6235  aku cari air mata wajah menang keras wajah men...  \n",
              "7372  gimana2 jangan komen jahat lah memang dia omon...  \n",
              "8897  tutup kebod han omong ingris wajah gembira ura...  \n",
              "9196  puas gue lihat panji tak suara tertawa bahak b...  \n",
              "30                          a kakel aku ada di kaist s2  \n",
              "243                                              anjing  \n",
              "4660                           datok siti nurhaliza beb  \n",
              "8757                             negara gaji hanya main  \n",
              "5626  makan samyang yuk aku lama enggak makan samyan...  \n",
              "5091                                  gua aneh gua gila  "
            ]
          },
          "execution_count": 20,
          "metadata": {},
          "output_type": "execute_result"
        }
      ],
      "source": [
        "df_x.sample(10)"
      ]
    },
    {
      "cell_type": "markdown",
      "metadata": {
        "id": "La34Elf1qc18"
      },
      "source": [
        "- **Melihat Distribusi Jumlah Kata Setelah Pre-processing Teks**\n",
        "\n",
        "Setelah processing teks, penting untuk menganalisis distribusi jumlah kata dalam data yang telah dibersihkan. Analisis ini membantu untuk memahami seberapa banyak informasi yang tersisa setelah teks dibersihkan dan diolah. Langkah pertama adalah menghitung jumlah kata dalam setiap entri teks yang telah dibersihkan serta visualisasinya."
      ]
    },
    {
      "cell_type": "code",
      "execution_count": 21,
      "metadata": {
        "id": "rmPuNjYuqjvk"
      },
      "outputs": [],
      "source": [
        "df_x['cleaned word count'] = df_x['text_cleaned'].apply(lambda x: len(x.split()))"
      ]
    },
    {
      "cell_type": "code",
      "execution_count": 22,
      "metadata": {
        "colab": {
          "base_uri": "https://localhost:8080/",
          "height": 466
        },
        "id": "EuP5H-cOqpkM",
        "outputId": "22f77a06-925e-4e0d-9c0e-47e733ec3960"
      },
      "outputs": [
        {
          "data": {
            "text/plain": [
              "<Axes: xlabel='cleaned word count', ylabel='Count'>"
            ]
          },
          "execution_count": 22,
          "metadata": {},
          "output_type": "execute_result"
        },
        {
          "data": {
            "image/png": "[encoded data removed]",
            "text/plain": [
              "<Figure size 640x480 with 1 Axes>"
            ]
          },
          "metadata": {},
          "output_type": "display_data"
        }
      ],
      "source": [
        "sns.histplot(df_x['cleaned word count'], kde=True, bins=30)"
      ]
    },
    {
      "cell_type": "code",
      "execution_count": 23,
      "metadata": {
        "colab": {
          "base_uri": "https://localhost:8080/",
          "height": 335
        },
        "id": "-8q94IAbrG0z",
        "outputId": "938882b6-7bfe-4af5-8cc0-5f29e1082a0b"
      },
      "outputs": [
        {
          "data": {
            "text/plain": [
              "count    213.000000\n",
              "mean      23.779343\n",
              "std        2.936939\n",
              "min       22.000000\n",
              "25%       22.000000\n",
              "50%       23.000000\n",
              "75%       24.000000\n",
              "max       57.000000\n",
              "Name: cleaned word count, dtype: float64"
            ]
          },
          "execution_count": 23,
          "metadata": {},
          "output_type": "execute_result"
        }
      ],
      "source": [
        "Q1 = df_x['cleaned word count'].quantile(0.25)\n",
        "Q3 = df_x['cleaned word count'].quantile(0.75)\n",
        "IQR = Q3 - Q1\n",
        "\n",
        "outliers = df_x[(df_x['cleaned word count'] < (Q1 - 1.5 * IQR)) | (df_x['cleaned word count'] > (Q3 + 1.5 * IQR))]\n",
        "outliers['cleaned word count'].describe()"
      ]
    },
    {
      "cell_type": "code",
      "execution_count": 24,
      "metadata": {
        "colab": {
          "base_uri": "https://localhost:8080/",
          "height": 335
        },
        "id": "d5MQjmIrrqwh",
        "outputId": "ba33d222-2d5c-4f82-fbf8-e1d9c3c7fe43"
      },
      "outputs": [
        {
          "data": {
            "text/plain": [
              "count    7975.000000\n",
              "mean        7.911975\n",
              "std         5.438304\n",
              "min         0.000000\n",
              "25%         4.000000\n",
              "50%         7.000000\n",
              "75%        11.000000\n",
              "max        57.000000\n",
              "Name: cleaned word count, dtype: float64"
            ]
          },
          "execution_count": 24,
          "metadata": {},
          "output_type": "execute_result"
        }
      ],
      "source": [
        "df_x['cleaned word count'].describe()"
      ]
    },
    {
      "cell_type": "code",
      "execution_count": 25,
      "metadata": {
        "colab": {
          "base_uri": "https://localhost:8080/"
        },
        "id": "HoG4oXBirt11",
        "outputId": "d52156b1-78b4-46e6-a648-72de092f6dc3"
      },
      "outputs": [
        {
          "name": "stdout",
          "output_type": "stream",
          "text": [
            "Jumlah teks dengan lebih dari 25 kata: (10, 5)\n",
            "Jumlah teks dengan 0 kata: (2, 5)\n"
          ]
        }
      ],
      "source": [
        "print('Jumlah teks dengan lebih dari 25 kata:', df_x[df_x['cleaned word count'] > 25].shape)\n",
        "print('Jumlah teks dengan 0 kata:', df_x[df_x['cleaned word count'] == 0].shape)"
      ]
    },
    {
      "cell_type": "markdown",
      "metadata": {
        "id": "I5EPcRMksAmG"
      },
      "source": [
        "- **Menghapus Kalimat yang Memiliki 0 Kata atau Lebih dari 25 Kata**\n",
        "\n",
        "Langkah berikutnya adalah menghapus kalimat yang memiliki jumlah kata nol atau lebih dari 25 kata. Hal ini dilakukan untuk menghilangkan entri yang tidak relevan dan memastikan kualitas dataset. Setelah penghapusan, distribusi jumlah kata pada dataset diperiksa kembali untuk memastikan bahwa data telah dinormalisasi. Ini juga **bertujuan untuk meningkatkan konsistensi dan mengurangi *noise* pada data yang akan digunakan untuk pemodelan.**"
      ]
    },
    {
      "cell_type": "code",
      "execution_count": 26,
      "metadata": {
        "id": "96l2kvPAsT26"
      },
      "outputs": [],
      "source": [
        "df_x = df_x[(df_x['cleaned word count'] > 0) & (df_x['cleaned word count'] <= 25)]"
      ]
    },
    {
      "cell_type": "code",
      "execution_count": 27,
      "metadata": {
        "colab": {
          "base_uri": "https://localhost:8080/",
          "height": 466
        },
        "id": "8QKZgJqnsZjX",
        "outputId": "21ef474a-8c67-45bb-e42e-f10f9fb98b35"
      },
      "outputs": [
        {
          "data": {
            "text/plain": [
              "<Axes: xlabel='cleaned word count', ylabel='Count'>"
            ]
          },
          "execution_count": 27,
          "metadata": {},
          "output_type": "execute_result"
        },
        {
          "data": {
            "image/png": "[encoded data removed]",
            "text/plain": [
              "<Figure size 640x480 with 1 Axes>"
            ]
          },
          "metadata": {},
          "output_type": "display_data"
        }
      ],
      "source": [
        "sns.histplot(df_x['cleaned word count'], kde=True, bins=30)"
      ]
    },
    {
      "cell_type": "markdown",
      "metadata": {
        "id": "HwpcBJ3AsiWF"
      },
      "source": [
        "# 🔍 **Membuat 3 Model *Supervised Learning***\n",
        "\n",
        "Langkah ini melibatkan pembuatan dan pelatihan model *machine learning* untuk mengklasifikasikan komentar sebagai *bullying* atau *non-bullying*. Berikut merupakan 3 model *Supervised Learning* yang akan kita gunakan:\n",
        "1.  *Support Vector Machine* (SVM)\n",
        "2.  *Naive Bayes* (*Multinomial Naive Bayes*)\n",
        "3.  *Logistic Regression*"
      ]
    },
    {
      "cell_type": "markdown",
      "metadata": {
        "id": "b85xUqJXsuqb"
      },
      "source": [
        "- **Splitting Dataset Menjadi Data Latih dan Data Uji (80:20)**\n",
        "\n",
        "Langkah ini bertujuan untuk membagi dataset menjadi dua bagian: satu untuk melatih model dan satu lagi untuk menguji kinerjanya. Dataset dibagi menjadi data pelatihan (`X_train`, `y_train`) yang digunakan untuk melatih model, dan data pengujian (`X_test`, `y_test`) untuk mengevaluasi kinerja model setelah pelatihan. Pembagian ini memastikan bahwa model dapat diuji pada data yang belum pernah dilihat sebelumnya, memberikan indikasi yang lebih akurat tentang kinerjanya di dunia nyata."
      ]
    },
    {
      "cell_type": "code",
      "execution_count": 28,
      "metadata": {
        "id": "ofECvj_Os0ja"
      },
      "outputs": [],
      "source": [
        "X = df_x['text_cleaned']\n",
        "y = df_x['label']\n",
        "\n",
        "X_train, X_test, y_train, y_test = model_selection.train_test_split(X, y, test_size=0.2, random_state=42)"
      ]
    },
    {
      "cell_type": "markdown",
      "metadata": {
        "id": "Tsdb6poetEmH"
      },
      "source": [
        "- **Ekstraksi Fitur untuk Model *Supervised Learning* (TF-IDF *Vectorizer*)**\n",
        "\n",
        "Pada tahap ini, fitur dari data teks diubah menjadi format numerik yang dapat digunakan oleh model *machine learning*. Proses ini dilakukan dengan menggunakan `TfidfVectorizer`, yang mengonversi teks menjadi representasi TF-IDF (*Term Frequency-Inverse Document Frequency*). Ini membantu dalam menilai pentingnya kata-kata dalam dokumen relatif terhadap seluruh dataset."
      ]
    },
    {
      "cell_type": "code",
      "execution_count": 29,
      "metadata": {
        "id": "wumGY2IEtGjg"
      },
      "outputs": [],
      "source": [
        "vectorizer = TfidfVectorizer()\n",
        "X_train = vectorizer.fit_transform(X_train)\n",
        "X_test = vectorizer.transform(X_test)"
      ]
    },
    {
      "cell_type": "markdown",
      "metadata": {
        "id": "y9EjkVpWtOIg"
      },
      "source": [
        "- **Pelatihan dan Evaluasi Model**\n",
        "\n",
        "3 Model *machine learning* dilatih menggunakan data pelatihan dan dievaluasi menggunakan data pengujian. Model yang diterapkan adalah *Logistic Regression*, SVM, dan *Naive Bayes*. Evaluasi dilakukan dengan menghitung akurasi, *classification report*, skor ROC-AUC, dan *confusion matrix* dari model untuk menilai kinerjanya."
      ]
    },
    {
      "cell_type": "code",
      "execution_count": 30,
      "metadata": {
        "id": "niu0tRvBtQMS"
      },
      "outputs": [],
      "source": [
        "def plot_confusion_matrix(y_true, y_pred, model_name):\n",
        "    cm = confusion_matrix(y_true, y_pred)\n",
        "    plt.figure(figsize=(8, 6))\n",
        "    sns.heatmap(cm, annot=True, fmt='d', cmap='Blues',\n",
        "                xticklabels=['Non-Bullying', 'Bullying'],\n",
        "                yticklabels=['Non-Bullying', 'Bullying'])\n",
        "    plt.xlabel('Predicted')\n",
        "    plt.ylabel('True')\n",
        "    plt.title(f'{model_name} Confusion Matrix')\n",
        "    plt.show()"
      ]
    },
    {
      "cell_type": "code",
      "execution_count": 31,
      "metadata": {
        "colab": {
          "base_uri": "https://localhost:8080/",
          "height": 1000
        },
        "id": "ka7Sm6DItmx6",
        "outputId": "179097ac-0ff3-4b69-9148-ed76f8bdd4f1"
      },
      "outputs": [
        {
          "data": {
            "text/html": [
              "<div>\n",
              "<style scoped>\n",
              "    .dataframe tbody tr th:only-of-type {\n",
              "        vertical-align: middle;\n",
              "    }\n",
              "\n",
              "    .dataframe tbody tr th {\n",
              "        vertical-align: top;\n",
              "    }\n",
              "\n",
              "    .dataframe thead th {\n",
              "        text-align: right;\n",
              "    }\n",
              "</style>\n",
              "<table border=\"1\" class=\"dataframe\">\n",
              "  <thead>\n",
              "    <tr style=\"text-align: right;\">\n",
              "      <th></th>\n",
              "      <th>text</th>\n",
              "      <th>label</th>\n",
              "      <th>word_count</th>\n",
              "      <th>text_cleaned</th>\n",
              "      <th>cleaned word count</th>\n",
              "    </tr>\n",
              "  </thead>\n",
              "  <tbody>\n",
              "    <tr>\n",
              "      <th>2095</th>\n",
              "      <td>kita hargai orang udah minta maf kok air mata ...</td>\n",
              "      <td>0</td>\n",
              "      <td>12</td>\n",
              "      <td>harga orang minta maf kok air mata keluar tidak</td>\n",
              "      <td>9</td>\n",
              "    </tr>\n",
              "    <tr>\n",
              "      <th>3693</th>\n",
              "      <td>teh tariq akhirnya udh punya pasangan</td>\n",
              "      <td>0</td>\n",
              "      <td>6</td>\n",
              "      <td>teh tariq akhir punya pasang</td>\n",
              "      <td>5</td>\n",
              "    </tr>\n",
              "    <tr>\n",
              "      <th>1803</th>\n",
              "      <td>kalau ada yang belum paham tanya kak gem biar ...</td>\n",
              "      <td>0</td>\n",
              "      <td>11</td>\n",
              "      <td>kalau yang paham tanya kak gem biar kasih paham</td>\n",
              "      <td>9</td>\n",
              "    </tr>\n",
              "    <tr>\n",
              "      <th>4296</th>\n",
              "      <td>senyuma lu mirip logo arsenal</td>\n",
              "      <td>0</td>\n",
              "      <td>5</td>\n",
              "      <td>senyuma lu mirip logo arsenal</td>\n",
              "      <td>5</td>\n",
              "    </tr>\n",
              "    <tr>\n",
              "      <th>2572</th>\n",
              "      <td>mending kaya aldi taher di upload ke youtube n...</td>\n",
              "      <td>0</td>\n",
              "      <td>24</td>\n",
              "      <td>mending kayak aldi taher upload youtube nya lu...</td>\n",
              "      <td>20</td>\n",
              "    </tr>\n",
              "    <tr>\n",
              "      <th>...</th>\n",
              "      <td>...</td>\n",
              "      <td>...</td>\n",
              "      <td>...</td>\n",
              "      <td>...</td>\n",
              "      <td>...</td>\n",
              "    </tr>\n",
              "    <tr>\n",
              "      <th>10161</th>\n",
              "      <td>ini emang bisa jadi bukti sih kalau sdm di ind...</td>\n",
              "      <td>1</td>\n",
              "      <td>22</td>\n",
              "      <td>memang jadi bukti sih kalau sdm indonesia rend...</td>\n",
              "      <td>13</td>\n",
              "    </tr>\n",
              "    <tr>\n",
              "      <th>10162</th>\n",
              "      <td>cowo yang ngejambak cewek kalo berantem piks b...</td>\n",
              "      <td>1</td>\n",
              "      <td>8</td>\n",
              "      <td>cowok ngejambak cewek kalo antem piks banget w...</td>\n",
              "      <td>10</td>\n",
              "    </tr>\n",
              "    <tr>\n",
              "      <th>10163</th>\n",
              "      <td>owh aku gay wajah memelas telapak kaki warna k...</td>\n",
              "      <td>1</td>\n",
              "      <td>4</td>\n",
              "      <td>aku gay wajah memelas telapak kaki warna kulit...</td>\n",
              "      <td>9</td>\n",
              "    </tr>\n",
              "    <tr>\n",
              "      <th>10164</th>\n",
              "      <td>pak luhut panjaitan aku raja kau</td>\n",
              "      <td>1</td>\n",
              "      <td>6</td>\n",
              "      <td>pak luhut panjaitan aku raja kau</td>\n",
              "      <td>6</td>\n",
              "    </tr>\n",
              "    <tr>\n",
              "      <th>10165</th>\n",
              "      <td>1 lagi bg org org yg masih buat iklan pop up moai</td>\n",
              "      <td>1</td>\n",
              "      <td>11</td>\n",
              "      <td>1 bang orang orang masih buat iklan pop up moa</td>\n",
              "      <td>10</td>\n",
              "    </tr>\n",
              "  </tbody>\n",
              "</table>\n",
              "<p>7963 rows × 5 columns</p>\n",
              "</div>"
            ],
            "text/plain": [
              "                                                    text  label  word_count  \\\n",
              "2095   kita hargai orang udah minta maf kok air mata ...      0          12   \n",
              "3693               teh tariq akhirnya udh punya pasangan      0           6   \n",
              "1803   kalau ada yang belum paham tanya kak gem biar ...      0          11   \n",
              "4296                       senyuma lu mirip logo arsenal      0           5   \n",
              "2572   mending kaya aldi taher di upload ke youtube n...      0          24   \n",
              "...                                                  ...    ...         ...   \n",
              "10161  ini emang bisa jadi bukti sih kalau sdm di ind...      1          22   \n",
              "10162  cowo yang ngejambak cewek kalo berantem piks b...      1           8   \n",
              "10163  owh aku gay wajah memelas telapak kaki warna k...      1           4   \n",
              "10164                   pak luhut panjaitan aku raja kau      1           6   \n",
              "10165  1 lagi bg org org yg masih buat iklan pop up moai      1          11   \n",
              "\n",
              "                                            text_cleaned  cleaned word count  \n",
              "2095     harga orang minta maf kok air mata keluar tidak                   9  \n",
              "3693                        teh tariq akhir punya pasang                   5  \n",
              "1803     kalau yang paham tanya kak gem biar kasih paham                   9  \n",
              "4296                       senyuma lu mirip logo arsenal                   5  \n",
              "2572   mending kayak aldi taher upload youtube nya lu...                  20  \n",
              "...                                                  ...                 ...  \n",
              "10161  memang jadi bukti sih kalau sdm indonesia rend...                  13  \n",
              "10162  cowok ngejambak cewek kalo antem piks banget w...                  10  \n",
              "10163  aku gay wajah memelas telapak kaki warna kulit...                   9  \n",
              "10164                   pak luhut panjaitan aku raja kau                   6  \n",
              "10165     1 bang orang orang masih buat iklan pop up moa                  10  \n",
              "\n",
              "[7963 rows x 5 columns]"
            ]
          },
          "execution_count": 31,
          "metadata": {},
          "output_type": "execute_result"
        }
      ],
      "source": [
        "df_x"
      ]
    },
    {
      "cell_type": "code",
      "execution_count": 32,
      "metadata": {
        "colab": {
          "base_uri": "https://localhost:8080/",
          "height": 1000
        },
        "id": "8bFHjRin9OWT",
        "outputId": "c3364372-19e6-4df2-a45f-c3325e519464"
      },
      "outputs": [
        {
          "name": "stdout",
          "output_type": "stream",
          "text": [
            "Logistic Regression Accuracy Score Training -> 85.84%\n",
            "Logistic Regression Accuracy Score Testing -> 73.38%\n",
            "Logistic Regression Classification Report:\n",
            "              precision    recall  f1-score   support\n",
            "\n",
            "           0       0.73      0.75      0.74       809\n",
            "           1       0.74      0.72      0.73       784\n",
            "\n",
            "    accuracy                           0.73      1593\n",
            "   macro avg       0.73      0.73      0.73      1593\n",
            "weighted avg       0.73      0.73      0.73      1593\n",
            "\n",
            "Logistic Regression ROC AUC Score -> 0.7336\n",
            "\n",
            "Logistic Regression Confusion Matrix:\n"
          ]
        },
        {
          "data": {
            "image/png": "[encoded data removed]",
            "text/plain": [
              "<Figure size 800x600 with 2 Axes>"
            ]
          },
          "metadata": {},
          "output_type": "display_data"
        },
        {
          "name": "stdout",
          "output_type": "stream",
          "text": [
            "--------------------------------------------------\n",
            "SVM Accuracy Score Training -> 96.31%\n",
            "SVM Accuracy Score Testing -> 74.20%\n",
            "SVM Classification Report:\n",
            "              precision    recall  f1-score   support\n",
            "\n",
            "           0       0.74      0.75      0.75       809\n",
            "           1       0.74      0.73      0.74       784\n",
            "\n",
            "    accuracy                           0.74      1593\n",
            "   macro avg       0.74      0.74      0.74      1593\n",
            "weighted avg       0.74      0.74      0.74      1593\n",
            "\n",
            "SVM ROC AUC Score -> 0.7419\n",
            "\n",
            "SVM Confusion Matrix:\n"
          ]
        },
        {
          "data": {
            "image/png": "[encoded data removed]",
            "text/plain": [
              "<Figure size 800x600 with 2 Axes>"
            ]
          },
          "metadata": {},
          "output_type": "display_data"
        },
        {
          "name": "stdout",
          "output_type": "stream",
          "text": [
            "--------------------------------------------------\n",
            "Naive Bayes Accuracy Score Training -> 87.16%\n",
            "Naive Bayes Accuracy Score Testing -> 72.44%\n",
            "Naive Bayes Classification Report:\n",
            "              precision    recall  f1-score   support\n",
            "\n",
            "           0       0.75      0.69      0.72       809\n",
            "           1       0.70      0.76      0.73       784\n",
            "\n",
            "    accuracy                           0.72      1593\n",
            "   macro avg       0.73      0.72      0.72      1593\n",
            "weighted avg       0.73      0.72      0.72      1593\n",
            "\n",
            "Naive Bayes ROC AUC Score -> 0.7250\n",
            "\n",
            "Naive Bayes Confusion Matrix:\n"
          ]
        },
        {
          "data": {
            "image/png": "[encoded data removed]",
            "text/plain": [
              "<Figure size 800x600 with 2 Axes>"
            ]
          },
          "metadata": {},
          "output_type": "display_data"
        },
        {
          "name": "stdout",
          "output_type": "stream",
          "text": [
            "--------------------------------------------------\n"
          ]
        }
      ],
      "source": [
        "def train_and_evaluate_model(model, model_name):\n",
        "    model.fit(X_train, y_train)\n",
        "\n",
        "    predictions_train = model.predict(X_train)\n",
        "    predictions_test = model.predict(X_test)\n",
        "\n",
        "    train_accuracy = accuracy_score(y_train, predictions_train) * 100\n",
        "    test_accuracy = accuracy_score(y_test, predictions_test) * 100\n",
        "\n",
        "    print(f\"{model_name} Accuracy Score Training -> {train_accuracy:.2f}%\")\n",
        "    print(f\"{model_name} Accuracy Score Testing -> {test_accuracy:.2f}%\")\n",
        "\n",
        "    print(f\"{model_name} Classification Report:\")\n",
        "    print(classification_report(y_test, predictions_test))\n",
        "\n",
        "    roc_auc = roc_auc_score(y_test, predictions_test)\n",
        "    print(f\"{model_name} ROC AUC Score -> {roc_auc:.4f}\\n\")\n",
        "\n",
        "    print(f\"{model_name} Confusion Matrix:\")\n",
        "    plot_confusion_matrix(y_test, predictions_test, model_name)\n",
        "\n",
        "    print('-' * 50)\n",
        "    return model\n",
        "\n",
        "# Existing models\n",
        "logistic_regression = train_and_evaluate_model(LogisticRegression(), 'Logistic Regression')\n",
        "svm = train_and_evaluate_model(SVC(), 'SVM')\n",
        "naive_bayes = train_and_evaluate_model(MultinomialNB(), 'Naive Bayes')"
      ]
    },
    {
      "cell_type": "code",
      "execution_count": 33,
      "metadata": {
        "colab": {
          "base_uri": "https://localhost:8080/"
        },
        "id": "sh2iWYU69SSe",
        "outputId": "cb084406-5d22-407a-f774-87f70a9ffea2"
      },
      "outputs": [
        {
          "name": "stdout",
          "output_type": "stream",
          "text": [
            "Fitting 5 folds for each of 160 candidates, totalling 800 fits\n",
            "Best Parameters: {'C': 1, 'max_iter': 100, 'penalty': 'l2', 'solver': 'newton-cg'}\n",
            "Best Score: 0.790989769992167\n"
          ]
        },
        {
          "name": "stderr",
          "output_type": "stream",
          "text": [
            "C:\\Users\\ASUS\\AppData\\Local\\Packages\\PythonSoftwareFoundation.Python.3.11_qbz5n2kfra8p0\\LocalCache\\local-packages\\Python311\\site-packages\\sklearn\\model_selection\\_validation.py:540: FitFailedWarning: \n",
            "240 fits failed out of a total of 800.\n",
            "The score on these train-test partitions for these parameters will be set to nan.\n",
            "If these failures are not expected, you can try to debug them by setting error_score='raise'.\n",
            "\n",
            "Below are more details about the failures:\n",
            "--------------------------------------------------------------------------------\n",
            "80 fits failed with the following error:\n",
            "Traceback (most recent call last):\n",
            "  File \"C:\\Users\\ASUS\\AppData\\Local\\Packages\\PythonSoftwareFoundation.Python.3.11_qbz5n2kfra8p0\\LocalCache\\local-packages\\Python311\\site-packages\\sklearn\\model_selection\\_validation.py\", line 888, in _fit_and_score\n",
            "    estimator.fit(X_train, y_train, **fit_params)\n",
            "  File \"C:\\Users\\ASUS\\AppData\\Local\\Packages\\PythonSoftwareFoundation.Python.3.11_qbz5n2kfra8p0\\LocalCache\\local-packages\\Python311\\site-packages\\sklearn\\base.py\", line 1473, in wrapper\n",
            "    return fit_method(estimator, *args, **kwargs)\n",
            "           ^^^^^^^^^^^^^^^^^^^^^^^^^^^^^^^^^^^^^^\n",
            "  File \"C:\\Users\\ASUS\\AppData\\Local\\Packages\\PythonSoftwareFoundation.Python.3.11_qbz5n2kfra8p0\\LocalCache\\local-packages\\Python311\\site-packages\\sklearn\\linear_model\\_logistic.py\", line 1194, in fit\n",
            "    solver = _check_solver(self.solver, self.penalty, self.dual)\n",
            "             ^^^^^^^^^^^^^^^^^^^^^^^^^^^^^^^^^^^^^^^^^^^^^^^^^^^\n",
            "  File \"C:\\Users\\ASUS\\AppData\\Local\\Packages\\PythonSoftwareFoundation.Python.3.11_qbz5n2kfra8p0\\LocalCache\\local-packages\\Python311\\site-packages\\sklearn\\linear_model\\_logistic.py\", line 67, in _check_solver\n",
            "    raise ValueError(\n",
            "ValueError: Solver newton-cg supports only 'l2' or None penalties, got l1 penalty.\n",
            "\n",
            "--------------------------------------------------------------------------------\n",
            "80 fits failed with the following error:\n",
            "Traceback (most recent call last):\n",
            "  File \"C:\\Users\\ASUS\\AppData\\Local\\Packages\\PythonSoftwareFoundation.Python.3.11_qbz5n2kfra8p0\\LocalCache\\local-packages\\Python311\\site-packages\\sklearn\\model_selection\\_validation.py\", line 888, in _fit_and_score\n",
            "    estimator.fit(X_train, y_train, **fit_params)\n",
            "  File \"C:\\Users\\ASUS\\AppData\\Local\\Packages\\PythonSoftwareFoundation.Python.3.11_qbz5n2kfra8p0\\LocalCache\\local-packages\\Python311\\site-packages\\sklearn\\base.py\", line 1473, in wrapper\n",
            "    return fit_method(estimator, *args, **kwargs)\n",
            "           ^^^^^^^^^^^^^^^^^^^^^^^^^^^^^^^^^^^^^^\n",
            "  File \"C:\\Users\\ASUS\\AppData\\Local\\Packages\\PythonSoftwareFoundation.Python.3.11_qbz5n2kfra8p0\\LocalCache\\local-packages\\Python311\\site-packages\\sklearn\\linear_model\\_logistic.py\", line 1194, in fit\n",
            "    solver = _check_solver(self.solver, self.penalty, self.dual)\n",
            "             ^^^^^^^^^^^^^^^^^^^^^^^^^^^^^^^^^^^^^^^^^^^^^^^^^^^\n",
            "  File \"C:\\Users\\ASUS\\AppData\\Local\\Packages\\PythonSoftwareFoundation.Python.3.11_qbz5n2kfra8p0\\LocalCache\\local-packages\\Python311\\site-packages\\sklearn\\linear_model\\_logistic.py\", line 67, in _check_solver\n",
            "    raise ValueError(\n",
            "ValueError: Solver lbfgs supports only 'l2' or None penalties, got l1 penalty.\n",
            "\n",
            "--------------------------------------------------------------------------------\n",
            "80 fits failed with the following error:\n",
            "Traceback (most recent call last):\n",
            "  File \"C:\\Users\\ASUS\\AppData\\Local\\Packages\\PythonSoftwareFoundation.Python.3.11_qbz5n2kfra8p0\\LocalCache\\local-packages\\Python311\\site-packages\\sklearn\\model_selection\\_validation.py\", line 888, in _fit_and_score\n",
            "    estimator.fit(X_train, y_train, **fit_params)\n",
            "  File \"C:\\Users\\ASUS\\AppData\\Local\\Packages\\PythonSoftwareFoundation.Python.3.11_qbz5n2kfra8p0\\LocalCache\\local-packages\\Python311\\site-packages\\sklearn\\base.py\", line 1473, in wrapper\n",
            "    return fit_method(estimator, *args, **kwargs)\n",
            "           ^^^^^^^^^^^^^^^^^^^^^^^^^^^^^^^^^^^^^^\n",
            "  File \"C:\\Users\\ASUS\\AppData\\Local\\Packages\\PythonSoftwareFoundation.Python.3.11_qbz5n2kfra8p0\\LocalCache\\local-packages\\Python311\\site-packages\\sklearn\\linear_model\\_logistic.py\", line 1194, in fit\n",
            "    solver = _check_solver(self.solver, self.penalty, self.dual)\n",
            "             ^^^^^^^^^^^^^^^^^^^^^^^^^^^^^^^^^^^^^^^^^^^^^^^^^^^\n",
            "  File \"C:\\Users\\ASUS\\AppData\\Local\\Packages\\PythonSoftwareFoundation.Python.3.11_qbz5n2kfra8p0\\LocalCache\\local-packages\\Python311\\site-packages\\sklearn\\linear_model\\_logistic.py\", line 67, in _check_solver\n",
            "    raise ValueError(\n",
            "ValueError: Solver sag supports only 'l2' or None penalties, got l1 penalty.\n",
            "\n",
            "  warnings.warn(some_fits_failed_message, FitFailedWarning)\n",
            "C:\\Users\\ASUS\\AppData\\Local\\Packages\\PythonSoftwareFoundation.Python.3.11_qbz5n2kfra8p0\\LocalCache\\local-packages\\Python311\\site-packages\\sklearn\\model_selection\\_search.py:1103: UserWarning: One or more of the test scores are non-finite: [       nan        nan 0.63103101        nan 0.63248829 0.75554174\n",
            " 0.75574678 0.75562356 0.75561222 0.7555925         nan        nan\n",
            " 0.63103101        nan 0.63248977 0.75554174 0.75574678 0.75562356\n",
            " 0.75561074 0.75561961        nan        nan 0.63103051        nan\n",
            " 0.63269581 0.75554174 0.75574678 0.75562356 0.75561419 0.75559694\n",
            "        nan        nan 0.63103002        nan 0.6324878  0.75554174\n",
            " 0.75574678 0.75562356 0.75561271 0.75562208        nan        nan\n",
            " 0.76236875        nan 0.76234361 0.79098977 0.79075958 0.79080395\n",
            " 0.79079803 0.79081183        nan        nan 0.76234016        nan\n",
            " 0.76234114 0.79098977 0.79075958 0.79080395 0.79079704 0.7908\n",
            "        nan        nan 0.76237367        nan 0.76235248 0.79098977\n",
            " 0.79075958 0.79080395 0.79079557 0.79080789        nan        nan\n",
            " 0.76233868        nan 0.76233769 0.79098977 0.79075958 0.79080395\n",
            " 0.79079655 0.79080887        nan        nan 0.76826422        nan\n",
            " 0.77287662 0.78818611 0.78807521 0.78798106 0.78798156 0.7879717\n",
            "        nan        nan 0.76828788        nan 0.77021614 0.78818611\n",
            " 0.78807521 0.78798106 0.78798205 0.78794902        nan        nan\n",
            " 0.7682031         nan 0.76922959 0.78818611 0.78807521 0.78798106\n",
            " 0.78797958 0.78798057        nan        nan 0.76827999        nan\n",
            " 0.76873593 0.78818611 0.78807521 0.78798106 0.78797761 0.78797219\n",
            "        nan        nan 0.72927907        nan 0.75816576 0.76149312\n",
            " 0.76345047 0.76104655 0.76163361 0.76424504        nan        nan\n",
            " 0.72922435        nan 0.7503847  0.76149312 0.7630172  0.76104655\n",
            " 0.76106923 0.76165579        nan        nan 0.72933378        nan\n",
            " 0.74621617 0.76149312 0.7630172  0.76104655 0.76106775 0.76119936\n",
            "        nan        nan 0.72919971        nan 0.74357147 0.76149312\n",
            " 0.7630172  0.76104655 0.76105592 0.76120182]\n",
            "  warnings.warn(\n"
          ]
        }
      ],
      "source": [
        "from sklearn.model_selection import GridSearchCV\n",
        "\n",
        "param_grid_logreg = {\n",
        "    'C': [0.1, 1, 10, 100],\n",
        "    'max_iter': [100, 200, 300, 400],\n",
        "    'solver': ['newton-cg', 'lbfgs', 'liblinear', 'sag', 'saga'],\n",
        "    'penalty': ['l1', 'l2']\n",
        "}\n",
        "\n",
        "grid_search_logistic = GridSearchCV(LogisticRegression(), param_grid_logreg, cv=5, n_jobs=-1, scoring='roc_auc', verbose= 1)\n",
        "grid_search_logistic.fit(X_train, y_train)\n",
        "\n",
        "print(f\"Best Parameters: {grid_search_logistic.best_params_}\")\n",
        "print(f\"Best Score: {grid_search_logistic.best_score_}\")"
      ]
    },
    {
      "cell_type": "code",
      "execution_count": 34,
      "metadata": {
        "colab": {
          "base_uri": "https://localhost:8080/",
          "height": 773
        },
        "id": "8WZOtlYeCWeL",
        "outputId": "b4e347c8-38a5-4848-d077-3d4a2aaa6359"
      },
      "outputs": [
        {
          "name": "stdout",
          "output_type": "stream",
          "text": [
            "Best Logistic Regression (GridSearch) Accuracy Score Training -> 85.78%\n",
            "Best Logistic Regression (GridSearch) Accuracy Score Testing -> 73.51%\n",
            "Best Logistic Regression (GridSearch) Classification Report:\n",
            "              precision    recall  f1-score   support\n",
            "\n",
            "           0       0.73      0.75      0.74       809\n",
            "           1       0.74      0.72      0.73       784\n",
            "\n",
            "    accuracy                           0.74      1593\n",
            "   macro avg       0.74      0.73      0.73      1593\n",
            "weighted avg       0.74      0.74      0.73      1593\n",
            "\n",
            "Best Logistic Regression (GridSearch) ROC AUC Score -> 0.7348\n",
            "\n",
            "Best Logistic Regression (GridSearch) Confusion Matrix:\n"
          ]
        },
        {
          "data": {
            "image/png": "[encoded data removed]",
            "text/plain": [
              "<Figure size 800x600 with 2 Axes>"
            ]
          },
          "metadata": {},
          "output_type": "display_data"
        },
        {
          "name": "stdout",
          "output_type": "stream",
          "text": [
            "--------------------------------------------------\n"
          ]
        }
      ],
      "source": [
        "best_logistic_regression = grid_search_logistic.best_estimator_\n",
        "best_logistic_regression = train_and_evaluate_model(best_logistic_regression, 'Best Logistic Regression (GridSearch)')"
      ]
    },
    {
      "cell_type": "code",
      "execution_count": 35,
      "metadata": {
        "colab": {
          "base_uri": "https://localhost:8080/",
          "height": 183
        },
        "id": "HxxQJZA-bl5d",
        "outputId": "4f466541-4e96-4c7e-e42f-3d403b7e2abd"
      },
      "outputs": [
        {
          "name": "stdout",
          "output_type": "stream",
          "text": [
            "Fitting 5 folds for each of 288 candidates, totalling 1440 fits\n"
          ]
        },
        {
          "name": "stderr",
          "output_type": "stream",
          "text": [
            "C:\\Users\\ASUS\\AppData\\Local\\Packages\\PythonSoftwareFoundation.Python.3.11_qbz5n2kfra8p0\\LocalCache\\local-packages\\Python311\\site-packages\\numpy\\ma\\core.py:2881: RuntimeWarning: invalid value encountered in cast\n",
            "  _data = np.array(data, dtype=dtype, copy=copy,\n"
          ]
        },
        {
          "data": {
            "text/html": [
              "<style>#sk-container-id-1 {\n",
              "  /* Definition of color scheme common for light and dark mode */\n",
              "  --sklearn-color-text: black;\n",
              "  --sklearn-color-line: gray;\n",
              "  /* Definition of color scheme for unfitted estimators */\n",
              "  --sklearn-color-unfitted-level-0: #fff5e6;\n",
              "  --sklearn-color-unfitted-level-1: #f6e4d2;\n",
              "  --sklearn-color-unfitted-level-2: #ffe0b3;\n",
              "  --sklearn-color-unfitted-level-3: chocolate;\n",
              "  /* Definition of color scheme for fitted estimators */\n",
              "  --sklearn-color-fitted-level-0: #f0f8ff;\n",
              "  --sklearn-color-fitted-level-1: #d4ebff;\n",
              "  --sklearn-color-fitted-level-2: #b3dbfd;\n",
              "  --sklearn-color-fitted-level-3: cornflowerblue;\n",
              "\n",
              "  /* Specific color for light theme */\n",
              "  --sklearn-color-text-on-default-background: var(--sg-text-color, var(--theme-code-foreground, var(--jp-content-font-color1, black)));\n",
              "  --sklearn-color-background: var(--sg-background-color, var(--theme-background, var(--jp-layout-color0, white)));\n",
              "  --sklearn-color-border-box: var(--sg-text-color, var(--theme-code-foreground, var(--jp-content-font-color1, black)));\n",
              "  --sklearn-color-icon: #696969;\n",
              "\n",
              "  @media (prefers-color-scheme: dark) {\n",
              "    /* Redefinition of color scheme for dark theme */\n",
              "    --sklearn-color-text-on-default-background: var(--sg-text-color, var(--theme-code-foreground, var(--jp-content-font-color1, white)));\n",
              "    --sklearn-color-background: var(--sg-background-color, var(--theme-background, var(--jp-layout-color0, #111)));\n",
              "    --sklearn-color-border-box: var(--sg-text-color, var(--theme-code-foreground, var(--jp-content-font-color1, white)));\n",
              "    --sklearn-color-icon: #878787;\n",
              "  }\n",
              "}\n",
              "\n",
              "#sk-container-id-1 {\n",
              "  color: var(--sklearn-color-text);\n",
              "}\n",
              "\n",
              "#sk-container-id-1 pre {\n",
              "  padding: 0;\n",
              "}\n",
              "\n",
              "#sk-container-id-1 input.sk-hidden--visually {\n",
              "  border: 0;\n",
              "  clip: rect(1px 1px 1px 1px);\n",
              "  clip: rect(1px, 1px, 1px, 1px);\n",
              "  height: 1px;\n",
              "  margin: -1px;\n",
              "  overflow: hidden;\n",
              "  padding: 0;\n",
              "  position: absolute;\n",
              "  width: 1px;\n",
              "}\n",
              "\n",
              "#sk-container-id-1 div.sk-dashed-wrapped {\n",
              "  border: 1px dashed var(--sklearn-color-line);\n",
              "  margin: 0 0.4em 0.5em 0.4em;\n",
              "  box-sizing: border-box;\n",
              "  padding-bottom: 0.4em;\n",
              "  background-color: var(--sklearn-color-background);\n",
              "}\n",
              "\n",
              "#sk-container-id-1 div.sk-container {\n",
              "  /* jupyter's `normalize.less` sets `[hidden] { display: none; }`\n",
              "     but bootstrap.min.css set `[hidden] { display: none !important; }`\n",
              "     so we also need the `!important` here to be able to override the\n",
              "     default hidden behavior on the sphinx rendered scikit-learn.org.\n",
              "     See: https://github.com/scikit-learn/scikit-learn/issues/21755 */\n",
              "  display: inline-block !important;\n",
              "  position: relative;\n",
              "}\n",
              "\n",
              "#sk-container-id-1 div.sk-text-repr-fallback {\n",
              "  display: none;\n",
              "}\n",
              "\n",
              "div.sk-parallel-item,\n",
              "div.sk-serial,\n",
              "div.sk-item {\n",
              "  /* draw centered vertical line to link estimators */\n",
              "  background-image: linear-gradient(var(--sklearn-color-text-on-default-background), var(--sklearn-color-text-on-default-background));\n",
              "  background-size: 2px 100%;\n",
              "  background-repeat: no-repeat;\n",
              "  background-position: center center;\n",
              "}\n",
              "\n",
              "/* Parallel-specific style estimator block */\n",
              "\n",
              "#sk-container-id-1 div.sk-parallel-item::after {\n",
              "  content: \"\";\n",
              "  width: 100%;\n",
              "  border-bottom: 2px solid var(--sklearn-color-text-on-default-background);\n",
              "  flex-grow: 1;\n",
              "}\n",
              "\n",
              "#sk-container-id-1 div.sk-parallel {\n",
              "  display: flex;\n",
              "  align-items: stretch;\n",
              "  justify-content: center;\n",
              "  background-color: var(--sklearn-color-background);\n",
              "  position: relative;\n",
              "}\n",
              "\n",
              "#sk-container-id-1 div.sk-parallel-item {\n",
              "  display: flex;\n",
              "  flex-direction: column;\n",
              "}\n",
              "\n",
              "#sk-container-id-1 div.sk-parallel-item:first-child::after {\n",
              "  align-self: flex-end;\n",
              "  width: 50%;\n",
              "}\n",
              "\n",
              "#sk-container-id-1 div.sk-parallel-item:last-child::after {\n",
              "  align-self: flex-start;\n",
              "  width: 50%;\n",
              "}\n",
              "\n",
              "#sk-container-id-1 div.sk-parallel-item:only-child::after {\n",
              "  width: 0;\n",
              "}\n",
              "\n",
              "/* Serial-specific style estimator block */\n",
              "\n",
              "#sk-container-id-1 div.sk-serial {\n",
              "  display: flex;\n",
              "  flex-direction: column;\n",
              "  align-items: center;\n",
              "  background-color: var(--sklearn-color-background);\n",
              "  padding-right: 1em;\n",
              "  padding-left: 1em;\n",
              "}\n",
              "\n",
              "\n",
              "/* Toggleable style: style used for estimator/Pipeline/ColumnTransformer box that is\n",
              "clickable and can be expanded/collapsed.\n",
              "- Pipeline and ColumnTransformer use this feature and define the default style\n",
              "- Estimators will overwrite some part of the style using the `sk-estimator` class\n",
              "*/\n",
              "\n",
              "/* Pipeline and ColumnTransformer style (default) */\n",
              "\n",
              "#sk-container-id-1 div.sk-toggleable {\n",
              "  /* Default theme specific background. It is overwritten whether we have a\n",
              "  specific estimator or a Pipeline/ColumnTransformer */\n",
              "  background-color: var(--sklearn-color-background);\n",
              "}\n",
              "\n",
              "/* Toggleable label */\n",
              "#sk-container-id-1 label.sk-toggleable__label {\n",
              "  cursor: pointer;\n",
              "  display: block;\n",
              "  width: 100%;\n",
              "  margin-bottom: 0;\n",
              "  padding: 0.5em;\n",
              "  box-sizing: border-box;\n",
              "  text-align: center;\n",
              "}\n",
              "\n",
              "#sk-container-id-1 label.sk-toggleable__label-arrow:before {\n",
              "  /* Arrow on the left of the label */\n",
              "  content: \"▸\";\n",
              "  float: left;\n",
              "  margin-right: 0.25em;\n",
              "  color: var(--sklearn-color-icon);\n",
              "}\n",
              "\n",
              "#sk-container-id-1 label.sk-toggleable__label-arrow:hover:before {\n",
              "  color: var(--sklearn-color-text);\n",
              "}\n",
              "\n",
              "/* Toggleable content - dropdown */\n",
              "\n",
              "#sk-container-id-1 div.sk-toggleable__content {\n",
              "  max-height: 0;\n",
              "  max-width: 0;\n",
              "  overflow: hidden;\n",
              "  text-align: left;\n",
              "  /* unfitted */\n",
              "  background-color: var(--sklearn-color-unfitted-level-0);\n",
              "}\n",
              "\n",
              "#sk-container-id-1 div.sk-toggleable__content.fitted {\n",
              "  /* fitted */\n",
              "  background-color: var(--sklearn-color-fitted-level-0);\n",
              "}\n",
              "\n",
              "#sk-container-id-1 div.sk-toggleable__content pre {\n",
              "  margin: 0.2em;\n",
              "  border-radius: 0.25em;\n",
              "  color: var(--sklearn-color-text);\n",
              "  /* unfitted */\n",
              "  background-color: var(--sklearn-color-unfitted-level-0);\n",
              "}\n",
              "\n",
              "#sk-container-id-1 div.sk-toggleable__content.fitted pre {\n",
              "  /* unfitted */\n",
              "  background-color: var(--sklearn-color-fitted-level-0);\n",
              "}\n",
              "\n",
              "#sk-container-id-1 input.sk-toggleable__control:checked~div.sk-toggleable__content {\n",
              "  /* Expand drop-down */\n",
              "  max-height: 200px;\n",
              "  max-width: 100%;\n",
              "  overflow: auto;\n",
              "}\n",
              "\n",
              "#sk-container-id-1 input.sk-toggleable__control:checked~label.sk-toggleable__label-arrow:before {\n",
              "  content: \"▾\";\n",
              "}\n",
              "\n",
              "/* Pipeline/ColumnTransformer-specific style */\n",
              "\n",
              "#sk-container-id-1 div.sk-label input.sk-toggleable__control:checked~label.sk-toggleable__label {\n",
              "  color: var(--sklearn-color-text);\n",
              "  background-color: var(--sklearn-color-unfitted-level-2);\n",
              "}\n",
              "\n",
              "#sk-container-id-1 div.sk-label.fitted input.sk-toggleable__control:checked~label.sk-toggleable__label {\n",
              "  background-color: var(--sklearn-color-fitted-level-2);\n",
              "}\n",
              "\n",
              "/* Estimator-specific style */\n",
              "\n",
              "/* Colorize estimator box */\n",
              "#sk-container-id-1 div.sk-estimator input.sk-toggleable__control:checked~label.sk-toggleable__label {\n",
              "  /* unfitted */\n",
              "  background-color: var(--sklearn-color-unfitted-level-2);\n",
              "}\n",
              "\n",
              "#sk-container-id-1 div.sk-estimator.fitted input.sk-toggleable__control:checked~label.sk-toggleable__label {\n",
              "  /* fitted */\n",
              "  background-color: var(--sklearn-color-fitted-level-2);\n",
              "}\n",
              "\n",
              "#sk-container-id-1 div.sk-label label.sk-toggleable__label,\n",
              "#sk-container-id-1 div.sk-label label {\n",
              "  /* The background is the default theme color */\n",
              "  color: var(--sklearn-color-text-on-default-background);\n",
              "}\n",
              "\n",
              "/* On hover, darken the color of the background */\n",
              "#sk-container-id-1 div.sk-label:hover label.sk-toggleable__label {\n",
              "  color: var(--sklearn-color-text);\n",
              "  background-color: var(--sklearn-color-unfitted-level-2);\n",
              "}\n",
              "\n",
              "/* Label box, darken color on hover, fitted */\n",
              "#sk-container-id-1 div.sk-label.fitted:hover label.sk-toggleable__label.fitted {\n",
              "  color: var(--sklearn-color-text);\n",
              "  background-color: var(--sklearn-color-fitted-level-2);\n",
              "}\n",
              "\n",
              "/* Estimator label */\n",
              "\n",
              "#sk-container-id-1 div.sk-label label {\n",
              "  font-family: monospace;\n",
              "  font-weight: bold;\n",
              "  display: inline-block;\n",
              "  line-height: 1.2em;\n",
              "}\n",
              "\n",
              "#sk-container-id-1 div.sk-label-container {\n",
              "  text-align: center;\n",
              "}\n",
              "\n",
              "/* Estimator-specific */\n",
              "#sk-container-id-1 div.sk-estimator {\n",
              "  font-family: monospace;\n",
              "  border: 1px dotted var(--sklearn-color-border-box);\n",
              "  border-radius: 0.25em;\n",
              "  box-sizing: border-box;\n",
              "  margin-bottom: 0.5em;\n",
              "  /* unfitted */\n",
              "  background-color: var(--sklearn-color-unfitted-level-0);\n",
              "}\n",
              "\n",
              "#sk-container-id-1 div.sk-estimator.fitted {\n",
              "  /* fitted */\n",
              "  background-color: var(--sklearn-color-fitted-level-0);\n",
              "}\n",
              "\n",
              "/* on hover */\n",
              "#sk-container-id-1 div.sk-estimator:hover {\n",
              "  /* unfitted */\n",
              "  background-color: var(--sklearn-color-unfitted-level-2);\n",
              "}\n",
              "\n",
              "#sk-container-id-1 div.sk-estimator.fitted:hover {\n",
              "  /* fitted */\n",
              "  background-color: var(--sklearn-color-fitted-level-2);\n",
              "}\n",
              "\n",
              "/* Specification for estimator info (e.g. \"i\" and \"?\") */\n",
              "\n",
              "/* Common style for \"i\" and \"?\" */\n",
              "\n",
              ".sk-estimator-doc-link,\n",
              "a:link.sk-estimator-doc-link,\n",
              "a:visited.sk-estimator-doc-link {\n",
              "  float: right;\n",
              "  font-size: smaller;\n",
              "  line-height: 1em;\n",
              "  font-family: monospace;\n",
              "  background-color: var(--sklearn-color-background);\n",
              "  border-radius: 1em;\n",
              "  height: 1em;\n",
              "  width: 1em;\n",
              "  text-decoration: none !important;\n",
              "  margin-left: 1ex;\n",
              "  /* unfitted */\n",
              "  border: var(--sklearn-color-unfitted-level-1) 1pt solid;\n",
              "  color: var(--sklearn-color-unfitted-level-1);\n",
              "}\n",
              "\n",
              ".sk-estimator-doc-link.fitted,\n",
              "a:link.sk-estimator-doc-link.fitted,\n",
              "a:visited.sk-estimator-doc-link.fitted {\n",
              "  /* fitted */\n",
              "  border: var(--sklearn-color-fitted-level-1) 1pt solid;\n",
              "  color: var(--sklearn-color-fitted-level-1);\n",
              "}\n",
              "\n",
              "/* On hover */\n",
              "div.sk-estimator:hover .sk-estimator-doc-link:hover,\n",
              ".sk-estimator-doc-link:hover,\n",
              "div.sk-label-container:hover .sk-estimator-doc-link:hover,\n",
              ".sk-estimator-doc-link:hover {\n",
              "  /* unfitted */\n",
              "  background-color: var(--sklearn-color-unfitted-level-3);\n",
              "  color: var(--sklearn-color-background);\n",
              "  text-decoration: none;\n",
              "}\n",
              "\n",
              "div.sk-estimator.fitted:hover .sk-estimator-doc-link.fitted:hover,\n",
              ".sk-estimator-doc-link.fitted:hover,\n",
              "div.sk-label-container:hover .sk-estimator-doc-link.fitted:hover,\n",
              ".sk-estimator-doc-link.fitted:hover {\n",
              "  /* fitted */\n",
              "  background-color: var(--sklearn-color-fitted-level-3);\n",
              "  color: var(--sklearn-color-background);\n",
              "  text-decoration: none;\n",
              "}\n",
              "\n",
              "/* Span, style for the box shown on hovering the info icon */\n",
              ".sk-estimator-doc-link span {\n",
              "  display: none;\n",
              "  z-index: 9999;\n",
              "  position: relative;\n",
              "  font-weight: normal;\n",
              "  right: .2ex;\n",
              "  padding: .5ex;\n",
              "  margin: .5ex;\n",
              "  width: min-content;\n",
              "  min-width: 20ex;\n",
              "  max-width: 50ex;\n",
              "  color: var(--sklearn-color-text);\n",
              "  box-shadow: 2pt 2pt 4pt #999;\n",
              "  /* unfitted */\n",
              "  background: var(--sklearn-color-unfitted-level-0);\n",
              "  border: .5pt solid var(--sklearn-color-unfitted-level-3);\n",
              "}\n",
              "\n",
              ".sk-estimator-doc-link.fitted span {\n",
              "  /* fitted */\n",
              "  background: var(--sklearn-color-fitted-level-0);\n",
              "  border: var(--sklearn-color-fitted-level-3);\n",
              "}\n",
              "\n",
              ".sk-estimator-doc-link:hover span {\n",
              "  display: block;\n",
              "}\n",
              "\n",
              "/* \"?\"-specific style due to the `<a>` HTML tag */\n",
              "\n",
              "#sk-container-id-1 a.estimator_doc_link {\n",
              "  float: right;\n",
              "  font-size: 1rem;\n",
              "  line-height: 1em;\n",
              "  font-family: monospace;\n",
              "  background-color: var(--sklearn-color-background);\n",
              "  border-radius: 1rem;\n",
              "  height: 1rem;\n",
              "  width: 1rem;\n",
              "  text-decoration: none;\n",
              "  /* unfitted */\n",
              "  color: var(--sklearn-color-unfitted-level-1);\n",
              "  border: var(--sklearn-color-unfitted-level-1) 1pt solid;\n",
              "}\n",
              "\n",
              "#sk-container-id-1 a.estimator_doc_link.fitted {\n",
              "  /* fitted */\n",
              "  border: var(--sklearn-color-fitted-level-1) 1pt solid;\n",
              "  color: var(--sklearn-color-fitted-level-1);\n",
              "}\n",
              "\n",
              "/* On hover */\n",
              "#sk-container-id-1 a.estimator_doc_link:hover {\n",
              "  /* unfitted */\n",
              "  background-color: var(--sklearn-color-unfitted-level-3);\n",
              "  color: var(--sklearn-color-background);\n",
              "  text-decoration: none;\n",
              "}\n",
              "\n",
              "#sk-container-id-1 a.estimator_doc_link.fitted:hover {\n",
              "  /* fitted */\n",
              "  background-color: var(--sklearn-color-fitted-level-3);\n",
              "}\n",
              "</style><div id=\"sk-container-id-1\" class=\"sk-top-container\"><div class=\"sk-text-repr-fallback\"><pre>GridSearchCV(cv=5, estimator=SVC(probability=True), n_jobs=-1,\n",
              "             param_grid={&#x27;C&#x27;: [0.1, 1, 10, 100], &#x27;coef0&#x27;: [0.0, 0.1, 0.5],\n",
              "                         &#x27;degree&#x27;: [2, 3, 4], &#x27;gamma&#x27;: [&#x27;scale&#x27;, &#x27;auto&#x27;],\n",
              "                         &#x27;kernel&#x27;: [&#x27;linear&#x27;, &#x27;poly&#x27;, &#x27;rbf&#x27;, &#x27;sigmoid&#x27;]},\n",
              "             scoring=&#x27;roc_auc&#x27;, verbose=1)</pre><b>In a Jupyter environment, please rerun this cell to show the HTML representation or trust the notebook. <br />On GitHub, the HTML representation is unable to render, please try loading this page with nbviewer.org.</b></div><div class=\"sk-container\" hidden><div class=\"sk-item sk-dashed-wrapped\"><div class=\"sk-label-container\"><div class=\"sk-label fitted sk-toggleable\"><input class=\"sk-toggleable__control sk-hidden--visually\" id=\"sk-estimator-id-1\" type=\"checkbox\" ><label for=\"sk-estimator-id-1\" class=\"sk-toggleable__label fitted sk-toggleable__label-arrow fitted\">&nbsp;&nbsp;GridSearchCV<a class=\"sk-estimator-doc-link fitted\" rel=\"noreferrer\" target=\"_blank\" href=\"https://scikit-learn.org/1.5/modules/generated/sklearn.model_selection.GridSearchCV.html\">?<span>Documentation for GridSearchCV</span></a><span class=\"sk-estimator-doc-link fitted\">i<span>Fitted</span></span></label><div class=\"sk-toggleable__content fitted\"><pre>GridSearchCV(cv=5, estimator=SVC(probability=True), n_jobs=-1,\n",
              "             param_grid={&#x27;C&#x27;: [0.1, 1, 10, 100], &#x27;coef0&#x27;: [0.0, 0.1, 0.5],\n",
              "                         &#x27;degree&#x27;: [2, 3, 4], &#x27;gamma&#x27;: [&#x27;scale&#x27;, &#x27;auto&#x27;],\n",
              "                         &#x27;kernel&#x27;: [&#x27;linear&#x27;, &#x27;poly&#x27;, &#x27;rbf&#x27;, &#x27;sigmoid&#x27;]},\n",
              "             scoring=&#x27;roc_auc&#x27;, verbose=1)</pre></div> </div></div><div class=\"sk-parallel\"><div class=\"sk-parallel-item\"><div class=\"sk-item\"><div class=\"sk-label-container\"><div class=\"sk-label fitted sk-toggleable\"><input class=\"sk-toggleable__control sk-hidden--visually\" id=\"sk-estimator-id-2\" type=\"checkbox\" ><label for=\"sk-estimator-id-2\" class=\"sk-toggleable__label fitted sk-toggleable__label-arrow fitted\">best_estimator_: SVC</label><div class=\"sk-toggleable__content fitted\"><pre>SVC(C=1, coef0=0.1, degree=2, kernel=&#x27;poly&#x27;, probability=True)</pre></div> </div></div><div class=\"sk-serial\"><div class=\"sk-item\"><div class=\"sk-estimator fitted sk-toggleable\"><input class=\"sk-toggleable__control sk-hidden--visually\" id=\"sk-estimator-id-3\" type=\"checkbox\" ><label for=\"sk-estimator-id-3\" class=\"sk-toggleable__label fitted sk-toggleable__label-arrow fitted\">&nbsp;SVC<a class=\"sk-estimator-doc-link fitted\" rel=\"noreferrer\" target=\"_blank\" href=\"https://scikit-learn.org/1.5/modules/generated/sklearn.svm.SVC.html\">?<span>Documentation for SVC</span></a></label><div class=\"sk-toggleable__content fitted\"><pre>SVC(C=1, coef0=0.1, degree=2, kernel=&#x27;poly&#x27;, probability=True)</pre></div> </div></div></div></div></div></div></div></div></div>"
            ],
            "text/plain": [
              "GridSearchCV(cv=5, estimator=SVC(probability=True), n_jobs=-1,\n",
              "             param_grid={'C': [0.1, 1, 10, 100], 'coef0': [0.0, 0.1, 0.5],\n",
              "                         'degree': [2, 3, 4], 'gamma': ['scale', 'auto'],\n",
              "                         'kernel': ['linear', 'poly', 'rbf', 'sigmoid']},\n",
              "             scoring='roc_auc', verbose=1)"
            ]
          },
          "execution_count": 35,
          "metadata": {},
          "output_type": "execute_result"
        }
      ],
      "source": [
        "param_grid_svm = {\n",
        "    'C': [0.1, 1, 10, 100],\n",
        "    'kernel': ['linear', 'poly', 'rbf', 'sigmoid'],\n",
        "    'degree': [2, 3, 4],  # hanya digunakan untuk 'poly'\n",
        "    'gamma': ['scale', 'auto'],  # digunakan di 'rbf', 'poly', 'sigmoid'\n",
        "    'coef0': [0.0, 0.1, 0.5],  # digunakan di 'poly', 'sigmoid'\n",
        "}\n",
        "\n",
        "grid_search_svm = GridSearchCV(\n",
        "    SVC(probability=True),\n",
        "    param_grid=param_grid_svm,\n",
        "    cv=5,\n",
        "    n_jobs=-1,\n",
        "    scoring='roc_auc',\n",
        "    verbose=1\n",
        ")\n",
        "\n",
        "grid_search_svm.fit(X_train, y_train)"
      ]
    },
    {
      "cell_type": "code",
      "execution_count": 36,
      "metadata": {
        "colab": {
          "base_uri": "https://localhost:8080/",
          "height": 828
        },
        "id": "Raq1vut_fCrp",
        "outputId": "24da23d0-9706-4dea-81a0-cb2e8d87df7c"
      },
      "outputs": [
        {
          "name": "stdout",
          "output_type": "stream",
          "text": [
            "Best Parameters: {'C': 1, 'coef0': 0.1, 'degree': 2, 'gamma': 'scale', 'kernel': 'poly'}\n",
            "Best Score: 0.7944\n",
            "Best SVM (GridSearch) Accuracy Score Training -> 97.83%\n",
            "Best SVM (GridSearch) Accuracy Score Testing -> 73.76%\n",
            "Best SVM (GridSearch) Classification Report:\n",
            "              precision    recall  f1-score   support\n",
            "\n",
            "           0       0.74      0.75      0.74       809\n",
            "           1       0.74      0.72      0.73       784\n",
            "\n",
            "    accuracy                           0.74      1593\n",
            "   macro avg       0.74      0.74      0.74      1593\n",
            "weighted avg       0.74      0.74      0.74      1593\n",
            "\n",
            "Best SVM (GridSearch) ROC AUC Score -> 0.7374\n",
            "\n",
            "Best SVM (GridSearch) Confusion Matrix:\n"
          ]
        },
        {
          "data": {
            "image/png": "[encoded data removed]",
            "text/plain": [
              "<Figure size 800x600 with 2 Axes>"
            ]
          },
          "metadata": {},
          "output_type": "display_data"
        },
        {
          "name": "stdout",
          "output_type": "stream",
          "text": [
            "--------------------------------------------------\n"
          ]
        }
      ],
      "source": [
        "print(f\"Best Parameters: {grid_search_svm.best_params_}\")\n",
        "print(f\"Best Score: {grid_search_svm.best_score_:.4f}\")\n",
        "\n",
        "# Evaluasi model terbaik\n",
        "best_svm = grid_search_svm.best_estimator_\n",
        "best_svm = train_and_evaluate_model(best_svm, 'Best SVM (GridSearch)')"
      ]
    },
    {
      "cell_type": "code",
      "execution_count": 37,
      "metadata": {
        "colab": {
          "base_uri": "https://localhost:8080/",
          "height": 183
        },
        "id": "U3KtrE6Y8bQd",
        "outputId": "ee1a033c-4d1b-4281-e161-79ff22046211"
      },
      "outputs": [
        {
          "name": "stdout",
          "output_type": "stream",
          "text": [
            "Fitting 5 folds for each of 5 candidates, totalling 25 fits\n"
          ]
        },
        {
          "data": {
            "text/html": [
              "<style>#sk-container-id-2 {\n",
              "  /* Definition of color scheme common for light and dark mode */\n",
              "  --sklearn-color-text: black;\n",
              "  --sklearn-color-line: gray;\n",
              "  /* Definition of color scheme for unfitted estimators */\n",
              "  --sklearn-color-unfitted-level-0: #fff5e6;\n",
              "  --sklearn-color-unfitted-level-1: #f6e4d2;\n",
              "  --sklearn-color-unfitted-level-2: #ffe0b3;\n",
              "  --sklearn-color-unfitted-level-3: chocolate;\n",
              "  /* Definition of color scheme for fitted estimators */\n",
              "  --sklearn-color-fitted-level-0: #f0f8ff;\n",
              "  --sklearn-color-fitted-level-1: #d4ebff;\n",
              "  --sklearn-color-fitted-level-2: #b3dbfd;\n",
              "  --sklearn-color-fitted-level-3: cornflowerblue;\n",
              "\n",
              "  /* Specific color for light theme */\n",
              "  --sklearn-color-text-on-default-background: var(--sg-text-color, var(--theme-code-foreground, var(--jp-content-font-color1, black)));\n",
              "  --sklearn-color-background: var(--sg-background-color, var(--theme-background, var(--jp-layout-color0, white)));\n",
              "  --sklearn-color-border-box: var(--sg-text-color, var(--theme-code-foreground, var(--jp-content-font-color1, black)));\n",
              "  --sklearn-color-icon: #696969;\n",
              "\n",
              "  @media (prefers-color-scheme: dark) {\n",
              "    /* Redefinition of color scheme for dark theme */\n",
              "    --sklearn-color-text-on-default-background: var(--sg-text-color, var(--theme-code-foreground, var(--jp-content-font-color1, white)));\n",
              "    --sklearn-color-background: var(--sg-background-color, var(--theme-background, var(--jp-layout-color0, #111)));\n",
              "    --sklearn-color-border-box: var(--sg-text-color, var(--theme-code-foreground, var(--jp-content-font-color1, white)));\n",
              "    --sklearn-color-icon: #878787;\n",
              "  }\n",
              "}\n",
              "\n",
              "#sk-container-id-2 {\n",
              "  color: var(--sklearn-color-text);\n",
              "}\n",
              "\n",
              "#sk-container-id-2 pre {\n",
              "  padding: 0;\n",
              "}\n",
              "\n",
              "#sk-container-id-2 input.sk-hidden--visually {\n",
              "  border: 0;\n",
              "  clip: rect(1px 1px 1px 1px);\n",
              "  clip: rect(1px, 1px, 1px, 1px);\n",
              "  height: 1px;\n",
              "  margin: -1px;\n",
              "  overflow: hidden;\n",
              "  padding: 0;\n",
              "  position: absolute;\n",
              "  width: 1px;\n",
              "}\n",
              "\n",
              "#sk-container-id-2 div.sk-dashed-wrapped {\n",
              "  border: 1px dashed var(--sklearn-color-line);\n",
              "  margin: 0 0.4em 0.5em 0.4em;\n",
              "  box-sizing: border-box;\n",
              "  padding-bottom: 0.4em;\n",
              "  background-color: var(--sklearn-color-background);\n",
              "}\n",
              "\n",
              "#sk-container-id-2 div.sk-container {\n",
              "  /* jupyter's `normalize.less` sets `[hidden] { display: none; }`\n",
              "     but bootstrap.min.css set `[hidden] { display: none !important; }`\n",
              "     so we also need the `!important` here to be able to override the\n",
              "     default hidden behavior on the sphinx rendered scikit-learn.org.\n",
              "     See: https://github.com/scikit-learn/scikit-learn/issues/21755 */\n",
              "  display: inline-block !important;\n",
              "  position: relative;\n",
              "}\n",
              "\n",
              "#sk-container-id-2 div.sk-text-repr-fallback {\n",
              "  display: none;\n",
              "}\n",
              "\n",
              "div.sk-parallel-item,\n",
              "div.sk-serial,\n",
              "div.sk-item {\n",
              "  /* draw centered vertical line to link estimators */\n",
              "  background-image: linear-gradient(var(--sklearn-color-text-on-default-background), var(--sklearn-color-text-on-default-background));\n",
              "  background-size: 2px 100%;\n",
              "  background-repeat: no-repeat;\n",
              "  background-position: center center;\n",
              "}\n",
              "\n",
              "/* Parallel-specific style estimator block */\n",
              "\n",
              "#sk-container-id-2 div.sk-parallel-item::after {\n",
              "  content: \"\";\n",
              "  width: 100%;\n",
              "  border-bottom: 2px solid var(--sklearn-color-text-on-default-background);\n",
              "  flex-grow: 1;\n",
              "}\n",
              "\n",
              "#sk-container-id-2 div.sk-parallel {\n",
              "  display: flex;\n",
              "  align-items: stretch;\n",
              "  justify-content: center;\n",
              "  background-color: var(--sklearn-color-background);\n",
              "  position: relative;\n",
              "}\n",
              "\n",
              "#sk-container-id-2 div.sk-parallel-item {\n",
              "  display: flex;\n",
              "  flex-direction: column;\n",
              "}\n",
              "\n",
              "#sk-container-id-2 div.sk-parallel-item:first-child::after {\n",
              "  align-self: flex-end;\n",
              "  width: 50%;\n",
              "}\n",
              "\n",
              "#sk-container-id-2 div.sk-parallel-item:last-child::after {\n",
              "  align-self: flex-start;\n",
              "  width: 50%;\n",
              "}\n",
              "\n",
              "#sk-container-id-2 div.sk-parallel-item:only-child::after {\n",
              "  width: 0;\n",
              "}\n",
              "\n",
              "/* Serial-specific style estimator block */\n",
              "\n",
              "#sk-container-id-2 div.sk-serial {\n",
              "  display: flex;\n",
              "  flex-direction: column;\n",
              "  align-items: center;\n",
              "  background-color: var(--sklearn-color-background);\n",
              "  padding-right: 1em;\n",
              "  padding-left: 1em;\n",
              "}\n",
              "\n",
              "\n",
              "/* Toggleable style: style used for estimator/Pipeline/ColumnTransformer box that is\n",
              "clickable and can be expanded/collapsed.\n",
              "- Pipeline and ColumnTransformer use this feature and define the default style\n",
              "- Estimators will overwrite some part of the style using the `sk-estimator` class\n",
              "*/\n",
              "\n",
              "/* Pipeline and ColumnTransformer style (default) */\n",
              "\n",
              "#sk-container-id-2 div.sk-toggleable {\n",
              "  /* Default theme specific background. It is overwritten whether we have a\n",
              "  specific estimator or a Pipeline/ColumnTransformer */\n",
              "  background-color: var(--sklearn-color-background);\n",
              "}\n",
              "\n",
              "/* Toggleable label */\n",
              "#sk-container-id-2 label.sk-toggleable__label {\n",
              "  cursor: pointer;\n",
              "  display: block;\n",
              "  width: 100%;\n",
              "  margin-bottom: 0;\n",
              "  padding: 0.5em;\n",
              "  box-sizing: border-box;\n",
              "  text-align: center;\n",
              "}\n",
              "\n",
              "#sk-container-id-2 label.sk-toggleable__label-arrow:before {\n",
              "  /* Arrow on the left of the label */\n",
              "  content: \"▸\";\n",
              "  float: left;\n",
              "  margin-right: 0.25em;\n",
              "  color: var(--sklearn-color-icon);\n",
              "}\n",
              "\n",
              "#sk-container-id-2 label.sk-toggleable__label-arrow:hover:before {\n",
              "  color: var(--sklearn-color-text);\n",
              "}\n",
              "\n",
              "/* Toggleable content - dropdown */\n",
              "\n",
              "#sk-container-id-2 div.sk-toggleable__content {\n",
              "  max-height: 0;\n",
              "  max-width: 0;\n",
              "  overflow: hidden;\n",
              "  text-align: left;\n",
              "  /* unfitted */\n",
              "  background-color: var(--sklearn-color-unfitted-level-0);\n",
              "}\n",
              "\n",
              "#sk-container-id-2 div.sk-toggleable__content.fitted {\n",
              "  /* fitted */\n",
              "  background-color: var(--sklearn-color-fitted-level-0);\n",
              "}\n",
              "\n",
              "#sk-container-id-2 div.sk-toggleable__content pre {\n",
              "  margin: 0.2em;\n",
              "  border-radius: 0.25em;\n",
              "  color: var(--sklearn-color-text);\n",
              "  /* unfitted */\n",
              "  background-color: var(--sklearn-color-unfitted-level-0);\n",
              "}\n",
              "\n",
              "#sk-container-id-2 div.sk-toggleable__content.fitted pre {\n",
              "  /* unfitted */\n",
              "  background-color: var(--sklearn-color-fitted-level-0);\n",
              "}\n",
              "\n",
              "#sk-container-id-2 input.sk-toggleable__control:checked~div.sk-toggleable__content {\n",
              "  /* Expand drop-down */\n",
              "  max-height: 200px;\n",
              "  max-width: 100%;\n",
              "  overflow: auto;\n",
              "}\n",
              "\n",
              "#sk-container-id-2 input.sk-toggleable__control:checked~label.sk-toggleable__label-arrow:before {\n",
              "  content: \"▾\";\n",
              "}\n",
              "\n",
              "/* Pipeline/ColumnTransformer-specific style */\n",
              "\n",
              "#sk-container-id-2 div.sk-label input.sk-toggleable__control:checked~label.sk-toggleable__label {\n",
              "  color: var(--sklearn-color-text);\n",
              "  background-color: var(--sklearn-color-unfitted-level-2);\n",
              "}\n",
              "\n",
              "#sk-container-id-2 div.sk-label.fitted input.sk-toggleable__control:checked~label.sk-toggleable__label {\n",
              "  background-color: var(--sklearn-color-fitted-level-2);\n",
              "}\n",
              "\n",
              "/* Estimator-specific style */\n",
              "\n",
              "/* Colorize estimator box */\n",
              "#sk-container-id-2 div.sk-estimator input.sk-toggleable__control:checked~label.sk-toggleable__label {\n",
              "  /* unfitted */\n",
              "  background-color: var(--sklearn-color-unfitted-level-2);\n",
              "}\n",
              "\n",
              "#sk-container-id-2 div.sk-estimator.fitted input.sk-toggleable__control:checked~label.sk-toggleable__label {\n",
              "  /* fitted */\n",
              "  background-color: var(--sklearn-color-fitted-level-2);\n",
              "}\n",
              "\n",
              "#sk-container-id-2 div.sk-label label.sk-toggleable__label,\n",
              "#sk-container-id-2 div.sk-label label {\n",
              "  /* The background is the default theme color */\n",
              "  color: var(--sklearn-color-text-on-default-background);\n",
              "}\n",
              "\n",
              "/* On hover, darken the color of the background */\n",
              "#sk-container-id-2 div.sk-label:hover label.sk-toggleable__label {\n",
              "  color: var(--sklearn-color-text);\n",
              "  background-color: var(--sklearn-color-unfitted-level-2);\n",
              "}\n",
              "\n",
              "/* Label box, darken color on hover, fitted */\n",
              "#sk-container-id-2 div.sk-label.fitted:hover label.sk-toggleable__label.fitted {\n",
              "  color: var(--sklearn-color-text);\n",
              "  background-color: var(--sklearn-color-fitted-level-2);\n",
              "}\n",
              "\n",
              "/* Estimator label */\n",
              "\n",
              "#sk-container-id-2 div.sk-label label {\n",
              "  font-family: monospace;\n",
              "  font-weight: bold;\n",
              "  display: inline-block;\n",
              "  line-height: 1.2em;\n",
              "}\n",
              "\n",
              "#sk-container-id-2 div.sk-label-container {\n",
              "  text-align: center;\n",
              "}\n",
              "\n",
              "/* Estimator-specific */\n",
              "#sk-container-id-2 div.sk-estimator {\n",
              "  font-family: monospace;\n",
              "  border: 1px dotted var(--sklearn-color-border-box);\n",
              "  border-radius: 0.25em;\n",
              "  box-sizing: border-box;\n",
              "  margin-bottom: 0.5em;\n",
              "  /* unfitted */\n",
              "  background-color: var(--sklearn-color-unfitted-level-0);\n",
              "}\n",
              "\n",
              "#sk-container-id-2 div.sk-estimator.fitted {\n",
              "  /* fitted */\n",
              "  background-color: var(--sklearn-color-fitted-level-0);\n",
              "}\n",
              "\n",
              "/* on hover */\n",
              "#sk-container-id-2 div.sk-estimator:hover {\n",
              "  /* unfitted */\n",
              "  background-color: var(--sklearn-color-unfitted-level-2);\n",
              "}\n",
              "\n",
              "#sk-container-id-2 div.sk-estimator.fitted:hover {\n",
              "  /* fitted */\n",
              "  background-color: var(--sklearn-color-fitted-level-2);\n",
              "}\n",
              "\n",
              "/* Specification for estimator info (e.g. \"i\" and \"?\") */\n",
              "\n",
              "/* Common style for \"i\" and \"?\" */\n",
              "\n",
              ".sk-estimator-doc-link,\n",
              "a:link.sk-estimator-doc-link,\n",
              "a:visited.sk-estimator-doc-link {\n",
              "  float: right;\n",
              "  font-size: smaller;\n",
              "  line-height: 1em;\n",
              "  font-family: monospace;\n",
              "  background-color: var(--sklearn-color-background);\n",
              "  border-radius: 1em;\n",
              "  height: 1em;\n",
              "  width: 1em;\n",
              "  text-decoration: none !important;\n",
              "  margin-left: 1ex;\n",
              "  /* unfitted */\n",
              "  border: var(--sklearn-color-unfitted-level-1) 1pt solid;\n",
              "  color: var(--sklearn-color-unfitted-level-1);\n",
              "}\n",
              "\n",
              ".sk-estimator-doc-link.fitted,\n",
              "a:link.sk-estimator-doc-link.fitted,\n",
              "a:visited.sk-estimator-doc-link.fitted {\n",
              "  /* fitted */\n",
              "  border: var(--sklearn-color-fitted-level-1) 1pt solid;\n",
              "  color: var(--sklearn-color-fitted-level-1);\n",
              "}\n",
              "\n",
              "/* On hover */\n",
              "div.sk-estimator:hover .sk-estimator-doc-link:hover,\n",
              ".sk-estimator-doc-link:hover,\n",
              "div.sk-label-container:hover .sk-estimator-doc-link:hover,\n",
              ".sk-estimator-doc-link:hover {\n",
              "  /* unfitted */\n",
              "  background-color: var(--sklearn-color-unfitted-level-3);\n",
              "  color: var(--sklearn-color-background);\n",
              "  text-decoration: none;\n",
              "}\n",
              "\n",
              "div.sk-estimator.fitted:hover .sk-estimator-doc-link.fitted:hover,\n",
              ".sk-estimator-doc-link.fitted:hover,\n",
              "div.sk-label-container:hover .sk-estimator-doc-link.fitted:hover,\n",
              ".sk-estimator-doc-link.fitted:hover {\n",
              "  /* fitted */\n",
              "  background-color: var(--sklearn-color-fitted-level-3);\n",
              "  color: var(--sklearn-color-background);\n",
              "  text-decoration: none;\n",
              "}\n",
              "\n",
              "/* Span, style for the box shown on hovering the info icon */\n",
              ".sk-estimator-doc-link span {\n",
              "  display: none;\n",
              "  z-index: 9999;\n",
              "  position: relative;\n",
              "  font-weight: normal;\n",
              "  right: .2ex;\n",
              "  padding: .5ex;\n",
              "  margin: .5ex;\n",
              "  width: min-content;\n",
              "  min-width: 20ex;\n",
              "  max-width: 50ex;\n",
              "  color: var(--sklearn-color-text);\n",
              "  box-shadow: 2pt 2pt 4pt #999;\n",
              "  /* unfitted */\n",
              "  background: var(--sklearn-color-unfitted-level-0);\n",
              "  border: .5pt solid var(--sklearn-color-unfitted-level-3);\n",
              "}\n",
              "\n",
              ".sk-estimator-doc-link.fitted span {\n",
              "  /* fitted */\n",
              "  background: var(--sklearn-color-fitted-level-0);\n",
              "  border: var(--sklearn-color-fitted-level-3);\n",
              "}\n",
              "\n",
              ".sk-estimator-doc-link:hover span {\n",
              "  display: block;\n",
              "}\n",
              "\n",
              "/* \"?\"-specific style due to the `<a>` HTML tag */\n",
              "\n",
              "#sk-container-id-2 a.estimator_doc_link {\n",
              "  float: right;\n",
              "  font-size: 1rem;\n",
              "  line-height: 1em;\n",
              "  font-family: monospace;\n",
              "  background-color: var(--sklearn-color-background);\n",
              "  border-radius: 1rem;\n",
              "  height: 1rem;\n",
              "  width: 1rem;\n",
              "  text-decoration: none;\n",
              "  /* unfitted */\n",
              "  color: var(--sklearn-color-unfitted-level-1);\n",
              "  border: var(--sklearn-color-unfitted-level-1) 1pt solid;\n",
              "}\n",
              "\n",
              "#sk-container-id-2 a.estimator_doc_link.fitted {\n",
              "  /* fitted */\n",
              "  border: var(--sklearn-color-fitted-level-1) 1pt solid;\n",
              "  color: var(--sklearn-color-fitted-level-1);\n",
              "}\n",
              "\n",
              "/* On hover */\n",
              "#sk-container-id-2 a.estimator_doc_link:hover {\n",
              "  /* unfitted */\n",
              "  background-color: var(--sklearn-color-unfitted-level-3);\n",
              "  color: var(--sklearn-color-background);\n",
              "  text-decoration: none;\n",
              "}\n",
              "\n",
              "#sk-container-id-2 a.estimator_doc_link.fitted:hover {\n",
              "  /* fitted */\n",
              "  background-color: var(--sklearn-color-fitted-level-3);\n",
              "}\n",
              "</style><div id=\"sk-container-id-2\" class=\"sk-top-container\"><div class=\"sk-text-repr-fallback\"><pre>GridSearchCV(cv=5, estimator=MultinomialNB(), n_jobs=-1,\n",
              "             param_grid={&#x27;alpha&#x27;: [0.1, 0.5, 1.0, 2.0, 5.0]}, scoring=&#x27;roc_auc&#x27;,\n",
              "             verbose=1)</pre><b>In a Jupyter environment, please rerun this cell to show the HTML representation or trust the notebook. <br />On GitHub, the HTML representation is unable to render, please try loading this page with nbviewer.org.</b></div><div class=\"sk-container\" hidden><div class=\"sk-item sk-dashed-wrapped\"><div class=\"sk-label-container\"><div class=\"sk-label fitted sk-toggleable\"><input class=\"sk-toggleable__control sk-hidden--visually\" id=\"sk-estimator-id-4\" type=\"checkbox\" ><label for=\"sk-estimator-id-4\" class=\"sk-toggleable__label fitted sk-toggleable__label-arrow fitted\">&nbsp;&nbsp;GridSearchCV<a class=\"sk-estimator-doc-link fitted\" rel=\"noreferrer\" target=\"_blank\" href=\"https://scikit-learn.org/1.5/modules/generated/sklearn.model_selection.GridSearchCV.html\">?<span>Documentation for GridSearchCV</span></a><span class=\"sk-estimator-doc-link fitted\">i<span>Fitted</span></span></label><div class=\"sk-toggleable__content fitted\"><pre>GridSearchCV(cv=5, estimator=MultinomialNB(), n_jobs=-1,\n",
              "             param_grid={&#x27;alpha&#x27;: [0.1, 0.5, 1.0, 2.0, 5.0]}, scoring=&#x27;roc_auc&#x27;,\n",
              "             verbose=1)</pre></div> </div></div><div class=\"sk-parallel\"><div class=\"sk-parallel-item\"><div class=\"sk-item\"><div class=\"sk-label-container\"><div class=\"sk-label fitted sk-toggleable\"><input class=\"sk-toggleable__control sk-hidden--visually\" id=\"sk-estimator-id-5\" type=\"checkbox\" ><label for=\"sk-estimator-id-5\" class=\"sk-toggleable__label fitted sk-toggleable__label-arrow fitted\">best_estimator_: MultinomialNB</label><div class=\"sk-toggleable__content fitted\"><pre>MultinomialNB(alpha=0.5)</pre></div> </div></div><div class=\"sk-serial\"><div class=\"sk-item\"><div class=\"sk-estimator fitted sk-toggleable\"><input class=\"sk-toggleable__control sk-hidden--visually\" id=\"sk-estimator-id-6\" type=\"checkbox\" ><label for=\"sk-estimator-id-6\" class=\"sk-toggleable__label fitted sk-toggleable__label-arrow fitted\">&nbsp;MultinomialNB<a class=\"sk-estimator-doc-link fitted\" rel=\"noreferrer\" target=\"_blank\" href=\"https://scikit-learn.org/1.5/modules/generated/sklearn.naive_bayes.MultinomialNB.html\">?<span>Documentation for MultinomialNB</span></a></label><div class=\"sk-toggleable__content fitted\"><pre>MultinomialNB(alpha=0.5)</pre></div> </div></div></div></div></div></div></div></div></div>"
            ],
            "text/plain": [
              "GridSearchCV(cv=5, estimator=MultinomialNB(), n_jobs=-1,\n",
              "             param_grid={'alpha': [0.1, 0.5, 1.0, 2.0, 5.0]}, scoring='roc_auc',\n",
              "             verbose=1)"
            ]
          },
          "execution_count": 37,
          "metadata": {},
          "output_type": "execute_result"
        }
      ],
      "source": [
        "param_grid_nb = {\n",
        "    'alpha': [0.1, 0.5, 1.0, 2.0, 5.0]\n",
        "}\n",
        "\n",
        "grid_search_nb = GridSearchCV(\n",
        "    MultinomialNB(),\n",
        "    param_grid=param_grid_nb,\n",
        "    cv=5,\n",
        "    n_jobs=-1,\n",
        "    scoring='roc_auc',\n",
        "    verbose=1\n",
        ")\n",
        "\n",
        "grid_search_nb.fit(X_train, y_train)\n"
      ]
    },
    {
      "cell_type": "code",
      "execution_count": 38,
      "metadata": {
        "colab": {
          "base_uri": "https://localhost:8080/",
          "height": 808
        },
        "id": "LFkW-ZHg8mQL",
        "outputId": "27097dcf-60b0-408c-bba3-cf2eec80d76d"
      },
      "outputs": [
        {
          "name": "stdout",
          "output_type": "stream",
          "text": [
            "Best Parameters: {'alpha': 0.5}\n",
            "Best Score: 0.8018\n",
            "Best Multinomial Naive Bayes (GridSearch) Accuracy Score Training -> 89.07%\n",
            "Best Multinomial Naive Bayes (GridSearch) Accuracy Score Testing -> 72.19%\n",
            "Best Multinomial Naive Bayes (GridSearch) Classification Report:\n",
            "              precision    recall  f1-score   support\n",
            "\n",
            "           0       0.74      0.69      0.72       809\n",
            "           1       0.70      0.75      0.73       784\n",
            "\n",
            "    accuracy                           0.72      1593\n",
            "   macro avg       0.72      0.72      0.72      1593\n",
            "weighted avg       0.72      0.72      0.72      1593\n",
            "\n",
            "Best Multinomial Naive Bayes (GridSearch) ROC AUC Score -> 0.7223\n",
            "\n",
            "Best Multinomial Naive Bayes (GridSearch) Confusion Matrix:\n"
          ]
        },
        {
          "data": {
            "image/png": "[encoded data removed]",
            "text/plain": [
              "<Figure size 800x600 with 2 Axes>"
            ]
          },
          "metadata": {},
          "output_type": "display_data"
        },
        {
          "name": "stdout",
          "output_type": "stream",
          "text": [
            "--------------------------------------------------\n"
          ]
        }
      ],
      "source": [
        "print(f\"Best Parameters: {grid_search_nb.best_params_}\")\n",
        "print(f\"Best Score: {grid_search_nb.best_score_:.4f}\")\n",
        "\n",
        "best_multinomial_nb = grid_search_nb.best_estimator_\n",
        "best_multinomial_nb = train_and_evaluate_model(best_multinomial_nb, 'Best Multinomial Naive Bayes (GridSearch)')\n"
      ]
    },
    {
      "cell_type": "code",
      "execution_count": null,
      "metadata": {
        "colab": {
          "base_uri": "https://localhost:8080/"
        },
        "id": "eS8GVE0g-L3v",
        "outputId": "6bc9600a-5be3-478e-fa65-47b968db0415"
      },
      "outputs": [],
      "source": [
        "def predict_hate_speech(text, model, model_name):\n",
        "    basetext = text\n",
        "    text = convert_emoji(text)\n",
        "    text = clean_text(text)\n",
        "    text = text.lower()\n",
        "    text = replace_slang(text)\n",
        "    text = stopword(text)\n",
        "    text = tokenize_text(text)\n",
        "    text = stemming(text)\n",
        "    text = vectorizer.transform([text])\n",
        "\n",
        "    prediction = model.predict(text)\n",
        "    result = 'Bullying' if prediction == 1 else 'Non Bullying'\n",
        "    return f'{model_name} Prediction: {result}'\n",
        "\n",
        "text = input('Enter text: ')\n",
        "print(\"Prediksi yang benar adalah Bullying!\")\n",
        "\n",
        "print(predict_hate_speech(text, logistic_regression, 'Logistic Regression'))\n",
        "print(predict_hate_speech(text, svm, 'SVM'))\n",
        "print(predict_hate_speech(text, naive_bayes, 'Naive Bayes'))"
      ]
    },
    {
      "cell_type": "code",
      "execution_count": null,
      "metadata": {},
      "outputs": [
        {
          "data": {
            "text/html": [
              "<div>\n",
              "<style scoped>\n",
              "    .dataframe tbody tr th:only-of-type {\n",
              "        vertical-align: middle;\n",
              "    }\n",
              "\n",
              "    .dataframe tbody tr th {\n",
              "        vertical-align: top;\n",
              "    }\n",
              "\n",
              "    .dataframe thead th {\n",
              "        text-align: right;\n",
              "    }\n",
              "</style>\n",
              "<table border=\"1\" class=\"dataframe\">\n",
              "  <thead>\n",
              "    <tr style=\"text-align: right;\">\n",
              "      <th></th>\n",
              "      <th>text</th>\n",
              "      <th>label</th>\n",
              "      <th>word_count</th>\n",
              "      <th>text_cleaned</th>\n",
              "      <th>cleaned word count</th>\n",
              "    </tr>\n",
              "  </thead>\n",
              "  <tbody>\n",
              "    <tr>\n",
              "      <th>2095</th>\n",
              "      <td>kita hargai orang udah minta maf kok air mata ...</td>\n",
              "      <td>0</td>\n",
              "      <td>12</td>\n",
              "      <td>harga orang minta maf kok air mata keluar tidak</td>\n",
              "      <td>9</td>\n",
              "    </tr>\n",
              "    <tr>\n",
              "      <th>3693</th>\n",
              "      <td>teh tariq akhirnya udh punya pasangan</td>\n",
              "      <td>0</td>\n",
              "      <td>6</td>\n",
              "      <td>teh tariq akhir punya pasang</td>\n",
              "      <td>5</td>\n",
              "    </tr>\n",
              "    <tr>\n",
              "      <th>1803</th>\n",
              "      <td>kalau ada yang belum paham tanya kak gem biar ...</td>\n",
              "      <td>0</td>\n",
              "      <td>11</td>\n",
              "      <td>kalau yang paham tanya kak gem biar kasih paham</td>\n",
              "      <td>9</td>\n",
              "    </tr>\n",
              "    <tr>\n",
              "      <th>4296</th>\n",
              "      <td>senyuma lu mirip logo arsenal</td>\n",
              "      <td>0</td>\n",
              "      <td>5</td>\n",
              "      <td>senyuma lu mirip logo arsenal</td>\n",
              "      <td>5</td>\n",
              "    </tr>\n",
              "    <tr>\n",
              "      <th>2572</th>\n",
              "      <td>mending kaya aldi taher di upload ke youtube n...</td>\n",
              "      <td>0</td>\n",
              "      <td>24</td>\n",
              "      <td>mending kayak aldi taher upload youtube nya lu...</td>\n",
              "      <td>20</td>\n",
              "    </tr>\n",
              "    <tr>\n",
              "      <th>...</th>\n",
              "      <td>...</td>\n",
              "      <td>...</td>\n",
              "      <td>...</td>\n",
              "      <td>...</td>\n",
              "      <td>...</td>\n",
              "    </tr>\n",
              "    <tr>\n",
              "      <th>10161</th>\n",
              "      <td>ini emang bisa jadi bukti sih kalau sdm di ind...</td>\n",
              "      <td>1</td>\n",
              "      <td>22</td>\n",
              "      <td>memang jadi bukti sih kalau sdm indonesia rend...</td>\n",
              "      <td>13</td>\n",
              "    </tr>\n",
              "    <tr>\n",
              "      <th>10162</th>\n",
              "      <td>cowo yang ngejambak cewek kalo berantem piks b...</td>\n",
              "      <td>1</td>\n",
              "      <td>8</td>\n",
              "      <td>cowok ngejambak cewek kalo antem piks banget w...</td>\n",
              "      <td>10</td>\n",
              "    </tr>\n",
              "    <tr>\n",
              "      <th>10163</th>\n",
              "      <td>owh aku gay wajah memelas telapak kaki warna k...</td>\n",
              "      <td>1</td>\n",
              "      <td>4</td>\n",
              "      <td>aku gay wajah memelas telapak kaki warna kulit...</td>\n",
              "      <td>9</td>\n",
              "    </tr>\n",
              "    <tr>\n",
              "      <th>10164</th>\n",
              "      <td>pak luhut panjaitan aku raja kau</td>\n",
              "      <td>1</td>\n",
              "      <td>6</td>\n",
              "      <td>pak luhut panjaitan aku raja kau</td>\n",
              "      <td>6</td>\n",
              "    </tr>\n",
              "    <tr>\n",
              "      <th>10165</th>\n",
              "      <td>1 lagi bg org org yg masih buat iklan pop up moai</td>\n",
              "      <td>1</td>\n",
              "      <td>11</td>\n",
              "      <td>1 bang orang orang masih buat iklan pop up moa</td>\n",
              "      <td>10</td>\n",
              "    </tr>\n",
              "  </tbody>\n",
              "</table>\n",
              "<p>7963 rows × 5 columns</p>\n",
              "</div>"
            ],
            "text/plain": [
              "                                                    text  label  word_count  \\\n",
              "2095   kita hargai orang udah minta maf kok air mata ...      0          12   \n",
              "3693               teh tariq akhirnya udh punya pasangan      0           6   \n",
              "1803   kalau ada yang belum paham tanya kak gem biar ...      0          11   \n",
              "4296                       senyuma lu mirip logo arsenal      0           5   \n",
              "2572   mending kaya aldi taher di upload ke youtube n...      0          24   \n",
              "...                                                  ...    ...         ...   \n",
              "10161  ini emang bisa jadi bukti sih kalau sdm di ind...      1          22   \n",
              "10162  cowo yang ngejambak cewek kalo berantem piks b...      1           8   \n",
              "10163  owh aku gay wajah memelas telapak kaki warna k...      1           4   \n",
              "10164                   pak luhut panjaitan aku raja kau      1           6   \n",
              "10165  1 lagi bg org org yg masih buat iklan pop up moai      1          11   \n",
              "\n",
              "                                            text_cleaned  cleaned word count  \n",
              "2095     harga orang minta maf kok air mata keluar tidak                   9  \n",
              "3693                        teh tariq akhir punya pasang                   5  \n",
              "1803     kalau yang paham tanya kak gem biar kasih paham                   9  \n",
              "4296                       senyuma lu mirip logo arsenal                   5  \n",
              "2572   mending kayak aldi taher upload youtube nya lu...                  20  \n",
              "...                                                  ...                 ...  \n",
              "10161  memang jadi bukti sih kalau sdm indonesia rend...                  13  \n",
              "10162  cowok ngejambak cewek kalo antem piks banget w...                  10  \n",
              "10163  aku gay wajah memelas telapak kaki warna kulit...                   9  \n",
              "10164                   pak luhut panjaitan aku raja kau                   6  \n",
              "10165     1 bang orang orang masih buat iklan pop up moa                  10  \n",
              "\n",
              "[7963 rows x 5 columns]"
            ]
          },
          "execution_count": 42,
          "metadata": {},
          "output_type": "execute_result"
        }
      ],
      "source": [
        "df_x"
      ]
    },
    {
      "cell_type": "code",
      "execution_count": null,
      "metadata": {},
      "outputs": [
        {
          "name": "stdout",
          "output_type": "stream",
          "text": [
            "Collecting fasttext\n",
            "  Downloading fasttext-0.9.3.tar.gz (73 kB)\n",
            "  Installing build dependencies: started\n",
            "  Installing build dependencies: finished with status 'done'\n",
            "  Getting requirements to build wheel: started\n",
            "  Getting requirements to build wheel: finished with status 'done'\n",
            "  Preparing metadata (pyproject.toml): started\n",
            "  Preparing metadata (pyproject.toml): finished with status 'done'\n",
            "Collecting pybind11>=2.2 (from fasttext)\n",
            "  Using cached pybind11-2.13.6-py3-none-any.whl.metadata (9.5 kB)\n",
            "Requirement already satisfied: setuptools>=0.7.0 in c:\\program files\\windowsapps\\pythonsoftwarefoundation.python.3.11_3.11.2544.0_x64__qbz5n2kfra8p0\\lib\\site-packages (from fasttext) (65.5.0)\n",
            "Requirement already satisfied: numpy in c:\\users\\asus\\appdata\\local\\packages\\pythonsoftwarefoundation.python.3.11_qbz5n2kfra8p0\\localcache\\local-packages\\python311\\site-packages (from fasttext) (2.1.3)\n",
            "Using cached pybind11-2.13.6-py3-none-any.whl (243 kB)\n",
            "Building wheels for collected packages: fasttext\n",
            "  Building wheel for fasttext (pyproject.toml): started\n",
            "  Building wheel for fasttext (pyproject.toml): finished with status 'error'\n",
            "Failed to build fasttext\n"
          ]
        },
        {
          "name": "stderr",
          "output_type": "stream",
          "text": [
            "  error: subprocess-exited-with-error\n",
            "  \n",
            "  × Building wheel for fasttext (pyproject.toml) did not run successfully.\n",
            "  │ exit code: 1\n",
            "  ╰─> [45 lines of output]\n",
            "      C:\\Users\\ASUS\\AppData\\Local\\Temp\\pip-build-env-vrwrwpu0\\overlay\\Lib\\site-packages\\setuptools\\dist.py:599: SetuptoolsDeprecationWarning: Invalid dash-separated key 'description-file' in 'metadata' (setup.cfg), please use the underscore name 'description_file' instead.\n",
            "      !!\n",
            "      \n",
            "              ********************************************************************************\n",
            "              Usage of dash-separated 'description-file' will not be supported in future\n",
            "              versions. Please use the underscore name 'description_file' instead.\n",
            "              (Affected: fasttext).\n",
            "      \n",
            "              By 2026-Mar-03, you need to update your project and remove deprecated calls\n",
            "              or your builds will no longer be supported.\n",
            "      \n",
            "              See https://setuptools.pypa.io/en/latest/userguide/declarative_config.html for details.\n",
            "              ********************************************************************************\n",
            "      \n",
            "      !!\n",
            "        opt = self._enforce_underscore(opt, section)\n",
            "      C:\\Users\\ASUS\\AppData\\Local\\Temp\\pip-build-env-vrwrwpu0\\overlay\\Lib\\site-packages\\setuptools\\dist.py:759: SetuptoolsDeprecationWarning: License classifiers are deprecated.\n",
            "      !!\n",
            "      \n",
            "              ********************************************************************************\n",
            "              Please consider removing the following classifiers in favor of a SPDX license expression:\n",
            "      \n",
            "              License :: OSI Approved :: MIT License\n",
            "      \n",
            "              See https://packaging.python.org/en/latest/guides/writing-pyproject-toml/#license for details.\n",
            "              ********************************************************************************\n",
            "      \n",
            "      !!\n",
            "        self._finalize_license_expression()\n",
            "      running bdist_wheel\n",
            "      running build\n",
            "      running build_py\n",
            "      creating build\\lib.win-amd64-cpython-311\\fasttext\n",
            "      copying python\\fasttext_module\\fasttext\\FastText.py -> build\\lib.win-amd64-cpython-311\\fasttext\n",
            "      copying python\\fasttext_module\\fasttext\\__init__.py -> build\\lib.win-amd64-cpython-311\\fasttext\n",
            "      creating build\\lib.win-amd64-cpython-311\\fasttext\\util\n",
            "      copying python\\fasttext_module\\fasttext\\util\\util.py -> build\\lib.win-amd64-cpython-311\\fasttext\\util\n",
            "      copying python\\fasttext_module\\fasttext\\util\\__init__.py -> build\\lib.win-amd64-cpython-311\\fasttext\\util\n",
            "      creating build\\lib.win-amd64-cpython-311\\fasttext\\tests\n",
            "      copying python\\fasttext_module\\fasttext\\tests\\test_configurations.py -> build\\lib.win-amd64-cpython-311\\fasttext\\tests\n",
            "      copying python\\fasttext_module\\fasttext\\tests\\test_script.py -> build\\lib.win-amd64-cpython-311\\fasttext\\tests\n",
            "      copying python\\fasttext_module\\fasttext\\tests\\__init__.py -> build\\lib.win-amd64-cpython-311\\fasttext\\tests\n",
            "      running build_ext\n",
            "      building 'fasttext_pybind' extension\n",
            "      error: Microsoft Visual C++ 14.0 or greater is required. Get it with \"Microsoft C++ Build Tools\": https://visualstudio.microsoft.com/visual-cpp-build-tools/\n",
            "      [end of output]\n",
            "  \n",
            "  note: This error originates from a subprocess, and is likely not a problem with pip.\n",
            "  ERROR: Failed building wheel for fasttext\n",
            "ERROR: Failed to build installable wheels for some pyproject.toml based projects (fasttext)\n"
          ]
        }
      ],
      "source": [
        "!pip install fasttext"
      ]
    },
    {
      "cell_type": "code",
      "execution_count": null,
      "metadata": {},
      "outputs": [
        {
          "name": "stderr",
          "output_type": "stream",
          "text": [
            "'wget' is not recognized as an internal or external command,\n",
            "operable program or batch file.\n",
            "'gunzip' is not recognized as an internal or external command,\n",
            "operable program or batch file.\n"
          ]
        }
      ],
      "source": [
        "!wget https://dl.fbaipublicfiles.com/fasttext/vectors-crawl/cc.en.300.bin.gz\n",
        "!gunzip cc.en.300.bin.gz"
      ]
    },
    {
      "cell_type": "code",
      "execution_count": null,
      "metadata": {},
      "outputs": [
        {
          "name": "stdout",
          "output_type": "stream",
          "text": [
            "Collecting fasttext-wheel\n",
            "  Downloading fasttext_wheel-0.9.2-cp311-cp311-win_amd64.whl.metadata (16 kB)\n",
            "Collecting pybind11>=2.2 (from fasttext-wheel)\n",
            "  Using cached pybind11-2.13.6-py3-none-any.whl.metadata (9.5 kB)\n",
            "Requirement already satisfied: setuptools>=0.7.0 in c:\\program files\\windowsapps\\pythonsoftwarefoundation.python.3.11_3.11.2544.0_x64__qbz5n2kfra8p0\\lib\\site-packages (from fasttext-wheel) (65.5.0)\n",
            "Requirement already satisfied: numpy in c:\\users\\asus\\appdata\\local\\packages\\pythonsoftwarefoundation.python.3.11_qbz5n2kfra8p0\\localcache\\local-packages\\python311\\site-packages (from fasttext-wheel) (2.1.3)\n",
            "Downloading fasttext_wheel-0.9.2-cp311-cp311-win_amd64.whl (232 kB)\n",
            "Using cached pybind11-2.13.6-py3-none-any.whl (243 kB)\n",
            "Installing collected packages: pybind11, fasttext-wheel\n",
            "\n",
            "   ---------------------------------------- 0/2 [pybind11]\n",
            "   ---------------------------------------- 2/2 [fasttext-wheel]\n",
            "\n",
            "Successfully installed fasttext-wheel-0.9.2 pybind11-2.13.6\n",
            "Note: you may need to restart the kernel to use updated packages.\n"
          ]
        }
      ],
      "source": [
        "pip install fasttext-wheel"
      ]
    },
    {
      "cell_type": "code",
      "execution_count": null,
      "metadata": {},
      "outputs": [],
      "source": [
        "import fasttext\n",
        "ft = fasttext.load_model('cc.en.300.bin')"
      ]
    },
    {
      "cell_type": "code",
      "execution_count": null,
      "metadata": {},
      "outputs": [],
      "source": [
        "sentence = df_x['text_cleaned'].apply(lambda x: x.split())\n",
        "\n",
        "# Load the FastText model\n",
        "ft = fasttext.load_model('cc.en.300.bin')\n",
        "\n",
        "# Function to get the word embedding\n",
        "def get_word_embedding(text):\n",
        "    text_embedding = []\n",
        "    for word in text:\n",
        "        try:\n",
        "            text_embedding.append(ft.get_word_vector(word))\n",
        "        except:\n",
        "            pass\n",
        "    return text_embedding\n",
        "\n",
        "sentence_embedding = sentence.apply(lambda x: get_word_embedding(x))\n",
        "\n",
        "# Pad the sentence embedding\n",
        "max_len = 50\n",
        "padded_embeddings = pad_sequences(sentence_embedding, maxlen=max_len, dtype='float32', padding='post')\n",
        "\n",
        "# For binary classification, use the labels directly\n",
        "y = df_x['label'].values\n",
        "\n",
        "# Train-test split\n",
        "X_train, X_test, y_train, y_test = model_selection.train_test_split(padded_embeddings, y, test_size=0.2, random_state=42)"
      ]
    },
    {
      "cell_type": "code",
      "execution_count": null,
      "metadata": {},
      "outputs": [
        {
          "name": "stdout",
          "output_type": "stream",
          "text": [
            "Epoch 1/25\n"
          ]
        },
        {
          "name": "stderr",
          "output_type": "stream",
          "text": [
            "C:\\Users\\ASUS\\AppData\\Local\\Packages\\PythonSoftwareFoundation.Python.3.11_qbz5n2kfra8p0\\LocalCache\\local-packages\\Python311\\site-packages\\keras\\src\\layers\\rnn\\rnn.py:199: UserWarning: Do not pass an `input_shape`/`input_dim` argument to a layer. When using Sequential models, prefer using an `Input(shape)` object as the first layer in the model instead.\n",
            "  super().__init__(**kwargs)\n"
          ]
        },
        {
          "name": "stdout",
          "output_type": "stream",
          "text": [
            "\u001b[1m180/180\u001b[0m \u001b[32m━━━━━━━━━━━━━━━━━━━━\u001b[0m\u001b[37m\u001b[0m \u001b[1m6s\u001b[0m 26ms/step - accuracy: 0.4986 - loss: 0.6937 - val_accuracy: 0.5432 - val_loss: 0.6891\n",
            "Epoch 2/25\n",
            "\u001b[1m180/180\u001b[0m \u001b[32m━━━━━━━━━━━━━━━━━━━━\u001b[0m\u001b[37m\u001b[0m \u001b[1m5s\u001b[0m 25ms/step - accuracy: 0.5596 - loss: 0.6835 - val_accuracy: 0.5228 - val_loss: 0.6910\n",
            "Epoch 3/25\n",
            "\u001b[1m180/180\u001b[0m \u001b[32m━━━━━━━━━━━━━━━━━━━━\u001b[0m\u001b[37m\u001b[0m \u001b[1m5s\u001b[0m 25ms/step - accuracy: 0.5326 - loss: 0.6871 - val_accuracy: 0.5385 - val_loss: 0.6838\n",
            "Epoch 4/25\n",
            "\u001b[1m180/180\u001b[0m \u001b[32m━━━━━━━━━━━━━━━━━━━━\u001b[0m\u001b[37m\u001b[0m \u001b[1m5s\u001b[0m 25ms/step - accuracy: 0.5451 - loss: 0.6851 - val_accuracy: 0.5636 - val_loss: 0.6721\n",
            "Epoch 5/25\n",
            "\u001b[1m180/180\u001b[0m \u001b[32m━━━━━━━━━━━━━━━━━━━━\u001b[0m\u001b[37m\u001b[0m \u001b[1m5s\u001b[0m 25ms/step - accuracy: 0.5618 - loss: 0.6800 - val_accuracy: 0.4867 - val_loss: 0.6942\n",
            "Epoch 6/25\n",
            "\u001b[1m180/180\u001b[0m \u001b[32m━━━━━━━━━━━━━━━━━━━━\u001b[0m\u001b[37m\u001b[0m \u001b[1m5s\u001b[0m 25ms/step - accuracy: 0.4937 - loss: 0.6976 - val_accuracy: 0.4882 - val_loss: 0.6930\n",
            "Epoch 7/25\n",
            "\u001b[1m180/180\u001b[0m \u001b[32m━━━━━━━━━━━━━━━━━━━━\u001b[0m\u001b[37m\u001b[0m \u001b[1m5s\u001b[0m 25ms/step - accuracy: 0.5066 - loss: 0.6940 - val_accuracy: 0.4882 - val_loss: 0.6934\n",
            "Epoch 8/25\n",
            "\u001b[1m180/180\u001b[0m \u001b[32m━━━━━━━━━━━━━━━━━━━━\u001b[0m\u001b[37m\u001b[0m \u001b[1m5s\u001b[0m 25ms/step - accuracy: 0.5086 - loss: 0.6929 - val_accuracy: 0.4882 - val_loss: 0.6934\n",
            "Epoch 9/25\n",
            "\u001b[1m180/180\u001b[0m \u001b[32m━━━━━━━━━━━━━━━━━━━━\u001b[0m\u001b[37m\u001b[0m \u001b[1m5s\u001b[0m 25ms/step - accuracy: 0.4933 - loss: 0.6935 - val_accuracy: 0.4882 - val_loss: 0.6939\n",
            "Epoch 10/25\n",
            "\u001b[1m180/180\u001b[0m \u001b[32m━━━━━━━━━━━━━━━━━━━━\u001b[0m\u001b[37m\u001b[0m \u001b[1m5s\u001b[0m 25ms/step - accuracy: 0.4994 - loss: 0.6937 - val_accuracy: 0.4882 - val_loss: 0.6936\n",
            "Epoch 11/25\n",
            "\u001b[1m180/180\u001b[0m \u001b[32m━━━━━━━━━━━━━━━━━━━━\u001b[0m\u001b[37m\u001b[0m \u001b[1m5s\u001b[0m 25ms/step - accuracy: 0.5005 - loss: 0.6930 - val_accuracy: 0.4882 - val_loss: 0.6935\n",
            "Epoch 12/25\n",
            "\u001b[1m180/180\u001b[0m \u001b[32m━━━━━━━━━━━━━━━━━━━━\u001b[0m\u001b[37m\u001b[0m \u001b[1m5s\u001b[0m 25ms/step - accuracy: 0.5165 - loss: 0.6932 - val_accuracy: 0.5118 - val_loss: 0.6931\n",
            "Epoch 13/25\n",
            "\u001b[1m180/180\u001b[0m \u001b[32m━━━━━━━━━━━━━━━━━━━━\u001b[0m\u001b[37m\u001b[0m \u001b[1m5s\u001b[0m 25ms/step - accuracy: 0.4919 - loss: 0.6933 - val_accuracy: 0.4882 - val_loss: 0.6934\n",
            "Epoch 14/25\n",
            "\u001b[1m180/180\u001b[0m \u001b[32m━━━━━━━━━━━━━━━━━━━━\u001b[0m\u001b[37m\u001b[0m \u001b[1m5s\u001b[0m 25ms/step - accuracy: 0.4891 - loss: 0.6934 - val_accuracy: 0.4882 - val_loss: 0.6936\n",
            "Epoch 15/25\n",
            "\u001b[1m180/180\u001b[0m \u001b[32m━━━━━━━━━━━━━━━━━━━━\u001b[0m\u001b[37m\u001b[0m \u001b[1m5s\u001b[0m 26ms/step - accuracy: 0.5047 - loss: 0.6932 - val_accuracy: 0.4882 - val_loss: 0.6935\n",
            "Epoch 16/25\n",
            "\u001b[1m180/180\u001b[0m \u001b[32m━━━━━━━━━━━━━━━━━━━━\u001b[0m\u001b[37m\u001b[0m \u001b[1m5s\u001b[0m 26ms/step - accuracy: 0.5149 - loss: 0.6930 - val_accuracy: 0.4882 - val_loss: 0.6933\n",
            "Epoch 17/25\n",
            "\u001b[1m180/180\u001b[0m \u001b[32m━━━━━━━━━━━━━━━━━━━━\u001b[0m\u001b[37m\u001b[0m \u001b[1m5s\u001b[0m 26ms/step - accuracy: 0.5052 - loss: 0.6931 - val_accuracy: 0.4882 - val_loss: 0.6934\n",
            "Epoch 18/25\n",
            "\u001b[1m180/180\u001b[0m \u001b[32m━━━━━━━━━━━━━━━━━━━━\u001b[0m\u001b[37m\u001b[0m \u001b[1m5s\u001b[0m 26ms/step - accuracy: 0.4989 - loss: 0.6933 - val_accuracy: 0.4882 - val_loss: 0.6935\n",
            "Epoch 19/25\n",
            "\u001b[1m180/180\u001b[0m \u001b[32m━━━━━━━━━━━━━━━━━━━━\u001b[0m\u001b[37m\u001b[0m \u001b[1m5s\u001b[0m 26ms/step - accuracy: 0.5051 - loss: 0.6931 - val_accuracy: 0.4882 - val_loss: 0.6935\n",
            "Epoch 20/25\n",
            "\u001b[1m180/180\u001b[0m \u001b[32m━━━━━━━━━━━━━━━━━━━━\u001b[0m\u001b[37m\u001b[0m \u001b[1m5s\u001b[0m 26ms/step - accuracy: 0.5025 - loss: 0.6933 - val_accuracy: 0.4882 - val_loss: 0.6934\n",
            "Epoch 21/25\n",
            "\u001b[1m180/180\u001b[0m \u001b[32m━━━━━━━━━━━━━━━━━━━━\u001b[0m\u001b[37m\u001b[0m \u001b[1m5s\u001b[0m 26ms/step - accuracy: 0.5001 - loss: 0.6932 - val_accuracy: 0.4882 - val_loss: 0.6934\n",
            "Epoch 22/25\n",
            "\u001b[1m180/180\u001b[0m \u001b[32m━━━━━━━━━━━━━━━━━━━━\u001b[0m\u001b[37m\u001b[0m \u001b[1m5s\u001b[0m 27ms/step - accuracy: 0.5000 - loss: 0.6932 - val_accuracy: 0.4882 - val_loss: 0.6934\n",
            "Epoch 23/25\n",
            "\u001b[1m180/180\u001b[0m \u001b[32m━━━━━━━━━━━━━━━━━━━━\u001b[0m\u001b[37m\u001b[0m \u001b[1m5s\u001b[0m 27ms/step - accuracy: 0.5035 - loss: 0.6932 - val_accuracy: 0.4882 - val_loss: 0.6936\n",
            "Epoch 24/25\n",
            "\u001b[1m180/180\u001b[0m \u001b[32m━━━━━━━━━━━━━━━━━━━━\u001b[0m\u001b[37m\u001b[0m \u001b[1m5s\u001b[0m 27ms/step - accuracy: 0.4998 - loss: 0.6933 - val_accuracy: 0.4882 - val_loss: 0.6935\n",
            "Epoch 25/25\n",
            "\u001b[1m180/180\u001b[0m \u001b[32m━━━━━━━━━━━━━━━━━━━━\u001b[0m\u001b[37m\u001b[0m \u001b[1m5s\u001b[0m 27ms/step - accuracy: 0.4944 - loss: 0.6934 - val_accuracy: 0.4882 - val_loss: 0.6935\n",
            "\u001b[1m50/50\u001b[0m \u001b[32m━━━━━━━━━━━━━━━━━━━━\u001b[0m\u001b[37m\u001b[0m \u001b[1m1s\u001b[0m 13ms/step\n",
            "Test Accuracy Score -> 50.78%\n",
            "LSTM Model Classification Report:\n",
            "              precision    recall  f1-score   support\n",
            "\n",
            "           0       0.51      1.00      0.67       809\n",
            "           1       0.00      0.00      0.00       784\n",
            "\n",
            "    accuracy                           0.51      1593\n",
            "   macro avg       0.25      0.50      0.34      1593\n",
            "weighted avg       0.26      0.51      0.34      1593\n",
            "\n",
            "LSTM Model ROC AUC Score -> 0.5019\n",
            "\n",
            "LSTM Model Confusion Matrix:\n"
          ]
        },
        {
          "name": "stderr",
          "output_type": "stream",
          "text": [
            "C:\\Users\\ASUS\\AppData\\Local\\Packages\\PythonSoftwareFoundation.Python.3.11_qbz5n2kfra8p0\\LocalCache\\local-packages\\Python311\\site-packages\\sklearn\\metrics\\_classification.py:1531: UndefinedMetricWarning: Precision is ill-defined and being set to 0.0 in labels with no predicted samples. Use `zero_division` parameter to control this behavior.\n",
            "  _warn_prf(average, modifier, f\"{metric.capitalize()} is\", len(result))\n",
            "C:\\Users\\ASUS\\AppData\\Local\\Packages\\PythonSoftwareFoundation.Python.3.11_qbz5n2kfra8p0\\LocalCache\\local-packages\\Python311\\site-packages\\sklearn\\metrics\\_classification.py:1531: UndefinedMetricWarning: Precision is ill-defined and being set to 0.0 in labels with no predicted samples. Use `zero_division` parameter to control this behavior.\n",
            "  _warn_prf(average, modifier, f\"{metric.capitalize()} is\", len(result))\n",
            "C:\\Users\\ASUS\\AppData\\Local\\Packages\\PythonSoftwareFoundation.Python.3.11_qbz5n2kfra8p0\\LocalCache\\local-packages\\Python311\\site-packages\\sklearn\\metrics\\_classification.py:1531: UndefinedMetricWarning: Precision is ill-defined and being set to 0.0 in labels with no predicted samples. Use `zero_division` parameter to control this behavior.\n",
            "  _warn_prf(average, modifier, f\"{metric.capitalize()} is\", len(result))\n"
          ]
        },
        {
          "data": {
            "image/png": "[encoded data removed]",
            "text/plain": [
              "<Figure size 500x400 with 2 Axes>"
            ]
          },
          "metadata": {},
          "output_type": "display_data"
        }
      ],
      "source": [
        "# Build the LSTM model for binary classification\n",
        "lstm = Sequential()\n",
        "lstm.add(LSTM(units=128, return_sequences=True, input_shape=(max_len, 300)))\n",
        "lstm.add(Dropout(0.2))\n",
        "lstm.add(LSTM(units=64))\n",
        "lstm.add(Dropout(0.2))\n",
        "lstm.add(Dense(units=1, activation='sigmoid'))  # Single output for binary classification\n",
        "\n",
        "# Compile the model\n",
        "lstm.compile(optimizer='adam', loss='binary_crossentropy', metrics=['accuracy'])\n",
        "\n",
        "# Train the model\n",
        "lstm.fit(X_train, y_train, epochs=25, batch_size=32, validation_split=0.1)\n",
        "\n",
        "# Evaluate the model\n",
        "def evaluate_model(model, X_test, y_test):\n",
        "    predictions_test = model.predict(X_test)\n",
        "    predictions_test_labels = (predictions_test > 0.5).astype(int).flatten()\n",
        "    \n",
        "    test_accuracy = accuracy_score(y_test, predictions_test_labels) * 100\n",
        "    print(f\"Test Accuracy Score -> {test_accuracy:.2f}%\")\n",
        "    \n",
        "    print(\"LSTM Model Classification Report:\")\n",
        "    print(classification_report(y_test, predictions_test_labels))\n",
        "\n",
        "    roc_auc = roc_auc_score(y_test, predictions_test)\n",
        "    print(f\"LSTM Model ROC AUC Score -> {roc_auc:.4f}\\n\")\n",
        "    \n",
        "    print(\"LSTM Model Confusion Matrix:\")\n",
        "    plot_confusion_matrix(y_test, predictions_test_labels, 'LSTM Model')\n",
        "\n",
        "evaluate_model(lstm, X_test, y_test)"
      ]
    }
  ],
  "metadata": {
    "colab": {
      "provenance": []
    },
    "kernelspec": {
      "display_name": "Python 3",
      "name": "python3"
    },
    "language_info": {
      "codemirror_mode": {
        "name": "ipython",
        "version": 3
      },
      "file_extension": ".py",
      "mimetype": "text/x-python",
      "name": "python",
      "nbconvert_exporter": "python",
      "pygments_lexer": "ipython3",
      "version": "3.11.9"
    }
  },
  "nbformat": 4,
  "nbformat_minor": 0
}
